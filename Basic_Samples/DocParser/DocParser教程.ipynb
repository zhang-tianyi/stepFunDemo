{
 "cells": [
  {
   "cell_type": "markdown",
   "metadata": {},
   "source": [
    "# 文本大模型与多模态大模型介绍\n",
    "\n",
    "## 文本大模型\n",
    "\n",
    "文本大模型，例如step-1系列，基于生成式人工智能技术，通过在大量数据上进行训练，以理解和生成自然语言。\n",
    "\n",
    "## 文本大模型可以用于但不限于以下任务：\n",
    "\n",
    "- 内容生成：生成文章、故事、对话等。\n",
    "- 代码生成：根据描述生成代码片段。\n",
    "- 摘要：将长篇文章或文档缩减为简短的摘要。\n",
    "- 翻译：将一种语言翻译成另一种语言。\n",
    "- 问答：回答各种问题，从简单的事实查询到复杂的推理问题。\n",
    "- 创意写作：创作诗歌、歌词或其他形式的创意文本。\n",
    "- 语言理解：进行情感分析、文本分类等。\n",
    "- 对话系统：与用户进行自然语言对话，模拟聊天机器人或虚拟助手。\n",
    "\n",
    "使用这些模型时，通常需要提供一个prompt，即一段引导性的文本，它告诉模型需要执行的任务类型以及相关的上下文信息。设计一个有效的prompt是至关重要的，因为它直接影响到模型输出的质量和相关性。\n",
    "\n",
    "## 多模态大模型\n",
    "\n",
    "多模态大模型，在文本大模型基础上，增加了对多种模态（如图像、音频、视频等）数据的处理能力，如step-1v系列，目前能够理解处理文本以及图像。多模态大模型的核心优势在于更符合人类认知世界的习惯，因为人类通过多种感官接收多模态信息，这些信息通常是互补和协同的，使用多模态大模型可以更好地理解这些信息以及进行推理。\n",
    "\n",
    "## 多模态大模型可以用于但不限于以下任务：\n",
    "\n",
    "- 图像到文本的翻译：为图像生成描述性文本。\n",
    "- 对话系统：结合文本和图像信息回答复杂问题。\n",
    "- 创作：根据图像和文本创作文学作品。\n",
    "- 医疗影像诊断：结合医学影像（如X光片、MRI图像）和病人的病历文本，多模态模型可以帮助医生更准确地诊断疾病。\n",
    "- 搜索引擎：搜索引擎可以利用多模态技术来理解用户的查询意图，结合文本、图像，提供更相关的搜索结果。\n",
    "- 自动驾驶：自动驾驶汽车可以使用多模态模型来处理来自多个传感器（如摄像头、雷达、激光雷达）的数据，以更好地理解周围环境并做出驾驶决策。"
   ]
  },
  {
   "cell_type": "markdown",
   "metadata": {},
   "source": [
    "# 文档解析API使用教程\n",
    "\n",
    "本教程将介绍如何使用阶跃星辰(StepFun)的文档解析API，通过一系列示例代码展示如何上传、管理和处理文档文件。"
   ]
  },
  {
   "cell_type": "markdown",
   "metadata": {},
   "source": [
    "## 1. 文件上传\n",
    "\n",
    "首先，我们需要上传一个文件到API服务器。以下代码展示了如何上传文件并获取文件ID。"
   ]
  },
  {
   "cell_type": "code",
   "execution_count": null,
   "metadata": {},
   "source": [
    "import requests\n",
    "import os\n",
    "\n",
    "STEP_API_KEY = os.environ[\"STEPFUN_API_KEY\"]\n",
    "BASE_URL= os.environ['STEPFUN_ENDPOINT']\n",
    "\n",
    "headers = {\n",
    "    \"Authorization\": f\"Bearer {STEP_API_KEY}\"\n",
    "}\n",
    "files = {\n",
    "    \"file\": (\"lihua.jpg\", open(\"../Image/lihua.jpg\", \"rb\")),\n",
    "    #\"file\": (\"测试音频.mp3\", open(\"../audio/output/测试音频.mp3\", \"rb\")),\n",
    "    # \"url\": (None, \"https://arxiv.org/pdf/2402.01684\"),\n",
    "}\n",
    "data = {\n",
    "    # \"purpose\": \"storage\"\n",
    "    # \"purpose\": \"file-extract\"\n",
    "    \"purpose\": \"retrieval-image\"\n",
    "}\n",
    "\n",
    "response = requests.post(BASE_URL+\"/files\", headers=headers, files=files, data=data)\n",
    "\n",
    "print(response.json())"
   ]
  },
  {
   "cell_type": "markdown",
   "metadata": {},
   "source": [
    "## 2. 获取文件状态\n",
    "\n",
    "上传文件后，我们可以检查文件的处理状态。以下代码展示了如何获取文件状态。"
   ]
  },
  {
   "cell_type": "code",
   "execution_count": null,
   "metadata": {},
   "source": [
    "import requests\n",
    "import os\n",
    "\n",
    "STEP_API_KEY = os.environ[\"STEPFUN_API_KEY\"]\n",
    "BASE_URL= os.environ['STEPFUN_ENDPOINT']\n",
    "\n",
    "file_id = \"file-KIc1YSExFY\"\n",
    "URL = BASE_URL+\"/files/\"+file_id\n",
    "\n",
    "headers = {\n",
    "    \"Authorization\": f\"Bearer {STEP_API_KEY}\"\n",
    "}\n",
    "\n",
    "response = requests.get(URL, headers=headers)\n",
    "responseJson = response.json()\n",
    "print(response.json())\n",
    "print(responseJson['status'])"
   ]
  },
  {
   "cell_type": "markdown",
   "metadata": {},
   "source": [
    "## 3. 获取文件内容\n",
    "\n",
    "一旦文件处理完成，我们可以获取文件的内容。以下代码展示了如何获取文件内容。"
   ]
  },
  {
   "cell_type": "code",
   "execution_count": null,
   "metadata": {},
   "source": [
    "import requests\n",
    "import os\n",
    "\n",
    "STEP_API_KEY = os.environ[\"STEPFUN_API_KEY\"]\n",
    "BASE_URL= os.environ['STEPFUN_ENDPOINT']\n",
    "\n",
    "file_id = \"file-KIc1YSExFY\"\n",
    "URL = BASE_URL+\"/files/\"+file_id+\"/content\"\n",
    "\n",
    "headers = {\n",
    "    \"Authorization\": f\"Bearer {STEP_API_KEY}\"\n",
    "}\n",
    "\n",
    "response = requests.get(URL, headers=headers)\n",
    "\n",
    "print(response.text)\n",
    "print(\"返回码：\", response.status_code)"
   ]
  },
  {
   "cell_type": "markdown",
   "metadata": {},
   "source": [
    "## 4. 文件处理与模型调用\n",
    "\n",
    "以下代码展示了一个完整的工作流程：上传文件、等待处理完成、获取内容，然后使用模型进行分析。"
   ]
  },
  {
   "cell_type": "code",
   "execution_count": null,
   "metadata": {},
   "source": [
    "import requests\n",
    "import time\n",
    "from openai import OpenAI\n",
    "import os\n",
    "\n",
    "STEP_API_KEY = os.environ[\"STEPFUN_API_KEY\"]\n",
    "BASE_URL= os.environ['STEPFUN_ENDPOINT']\n",
    "\n",
    "def upload_file(filename, filepath, base_url, step_api_key):\n",
    "    headers = {\n",
    "        \"Authorization\": f\"Bearer {step_api_key}\"\n",
    "    }\n",
    "    with open(filepath, \"rb\") as file:\n",
    "        files = {\n",
    "            \"file\": (filename, file),\n",
    "        }\n",
    "        data = {\n",
    "            \"purpose\": \"file-extract\"\n",
    "        }\n",
    "        # Make the API request\n",
    "        response = requests.post(f\"{base_url}/files\", headers=headers, files=files, data=data)\n",
    "        # Parse the JSON response\n",
    "        response_json = response.json()\n",
    "        # Return the file ID\n",
    "        return response_json.get(\"id\")\n",
    "def get_file_status(fileid, base_url, step_api_key):\n",
    "    headers = {\n",
    "        \"Authorization\": f\"Bearer {step_api_key}\"\n",
    "    }\n",
    "    url = f\"{base_url}/files/{fileid}\"\n",
    "    response = requests.get(url, headers=headers)\n",
    "    response_json = response.json()\n",
    "    return response_json.get('status', 'unknown')\n",
    "\n",
    "def get_file_content(fileid, base_url, step_api_key):\n",
    "    headers = {\n",
    "        \"Authorization\": f\"Bearer {step_api_key}\"\n",
    "    }\n",
    "    url = f\"{base_url}/files/{fileid}/content\"\n",
    "    response = requests.get(url, headers=headers)\n",
    "    if response.status_code == 200:\n",
    "        return response.text\n",
    "    else:\n",
    "        return f\"Error: {response.status_code} - {response.text}\"\n",
    "\n",
    "\n",
    "# 上传文件获取文件ID\n",
    "file_id = upload_file(\n",
    "    filename=\"模型介绍.docx\",\n",
    "    filepath=\"./模型介绍.docx\",\n",
    "    base_url=BASE_URL,\n",
    "    step_api_key=STEP_API_KEY,\n",
    ")\n",
    "\n",
    "# 等待文件解析完成\n",
    "while True:\n",
    "    status = get_file_status(file_id, BASE_URL, STEP_API_KEY)\n",
    "    if status == 'success':\n",
    "        break\n",
    "    time.sleep(1)  # 避免频繁请求\n",
    "\n",
    "# 获取文件内容\n",
    "file_content = get_file_content(file_id, BASE_URL, STEP_API_KEY)\n",
    "print(file_content)\n",
    "\n",
    "# 生成对话\n",
    "messages = [\n",
    "    {\n",
    "        \"role\": \"system\",\n",
    "        \"content\": \"你是阶跃星辰助手，会读取用户发送给你的文件的内容，并结合文件内容回答问题\",\n",
    "    },\n",
    "    {\n",
    "        \"role\": \"user\",\n",
    "        \"content\": file_content,\n",
    "    },\n",
    "    {\"role\": \"user\", \"content\": \"请简单介绍文档的具体内容\"},\n",
    "]\n",
    "time_start = time.time()\n",
    "# 初始化\n",
    "client = OpenAI(api_key=STEP_API_KEY,base_url=BASE_URL)\n",
    "# 针对文件大小，可以使用  step-1-256k 等超长上下文大模型\n",
    "# 实现文本补全\n",
    "response = client.chat.completions.create(\n",
    "    messages=messages,\n",
    "    model=\"step-1-256k\",\n",
    "    stream=True,\n",
    ")\n",
    "i=0\n",
    "for chunk in response:\n",
    "    i += 1\n",
    "    print(chunk.choices[0].delta.content.strip(),end=\"\")\n",
    "    if i == 1:\n",
    "        time_firstWord = time.time()\n",
    "        elapsed_time= time_firstWord-time_start\n",
    "        print(f\"首字生成时间: {elapsed_time:.2f} 秒\")\n",
    "time_end = time.time()\n",
    "elapsed_time = time_end - time_start\n",
    "print(f\"总生成时间: {elapsed_time:.2f} 秒\")"
   ]
  },
  {
   "cell_type": "markdown",
   "metadata": {},
   "source": [
    "## 5. 获取文件列表\n",
    "\n",
    "以下代码展示了如何获取已上传文件的列表。"
   ]
  },
  {
   "cell_type": "code",
   "execution_count": null,
   "metadata": {},
   "source": [
    "import requests\n",
    "import os\n",
    "\n",
    "STEP_API_KEY = os.environ[\"STEPFUN_API_KEY\"]\n",
    "BASE_URL= os.environ['STEPFUN_ENDPOINT']\n",
    "\n",
    "#filePurpose根据需要填写file-extract或retrieval\n",
    "filePurpose=\"file-extract\"\n",
    "URL = BASE_URL+\"/files?purpose=\"+filePurpose\n",
    "\n",
    "headers = {\n",
    "    \"Authorization\": f\"Bearer {STEP_API_KEY}\"\n",
    "}\n",
    "\n",
    "response = requests.get(URL, headers=headers)\n",
    "responseJson = response.json()\n",
    "print(responseJson)"
   ]
  },
  {
   "cell_type": "markdown",
   "metadata": {},
   "source": [
    "## 6. 删除文件\n",
    "\n",
    "最后，我们可以删除不再需要的文件。以下代码展示了如何删除文件。"
   ]
  },
  {
   "cell_type": "code",
   "execution_count": null,
   "metadata": {},
   "source": [
    "import requests\n",
    "import os\n",
    "\n",
    "STEP_API_KEY = os.environ[\"STEPFUN_API_KEY\"]\n",
    "BASE_URL= os.environ['STEPFUN_ENDPOINT']\n",
    "\n",
    "file_id = \"file-KIcn9wB3ZI\"\n",
    "URL = BASE_URL+\"/files/\"+file_id\n",
    "\n",
    "headers = {\n",
    "    \"Authorization\": f\"Bearer {STEP_API_KEY}\"\n",
    "}\n",
    "\n",
    "response = requests.delete(URL, headers=headers)\n",
    "responseJson = response.json()\n",
    "print(responseJson)"
   ]
  },
  {
   "cell_type": "markdown",
   "metadata": {},
   "source": [
    "## 总结\n",
    "\n",
    "本教程展示了如何使用阶跃星辰(StepFun)的文档解析API进行文件的上传、状态检查、内容获取、文件列表获取以及文件删除等操作。通过这些API，您可以轻松地将文档处理功能集成到您的应用程序中。\n",
    "\n",
    "请注意，在实际使用中，您需要替换示例中的文件ID和路径为您自己的文件信息。"
   ]
  }
 ],
 "metadata": {
  "kernelspec": {
   "display_name": "Python 3",
   "language": "python",
   "name": "python3"
  },
  "language_info": {
   "codemirror_mode": {
    "name": "ipython",
    "version": 3
   },
   "file_extension": ".py",
   "mimetype": "text/x-python",
   "name": "python",
   "nbconvert_exporter": "python",
   "pygments_lexer": "ipython3",
   "version": "3.8.10"
  }
 },
 "nbformat": 4,
 "nbformat_minor": 4
}