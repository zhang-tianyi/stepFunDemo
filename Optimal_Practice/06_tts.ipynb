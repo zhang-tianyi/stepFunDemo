{
 "cells": [
  {
   "cell_type": "markdown",
   "metadata": {},
   "source": [
    "# 阶跃星辰 TTS API 开发实践指南\n",
    "\n",
    "> 基于文档：\n",
    "> \n",
    "> [https://platform.stepfun.com/docs/guide/tts](https://platform.stepfun.com/docs/guide/tts)\n",
    "> \n",
    ">  的实操教程"
   ]
  },
  {
   "cell_type": "markdown",
   "metadata": {},
   "source": [
    "## 1. 概述\n",
    "\n",
    "本 Notebook 旨在帮助开发者快速上手阶跃星辰 TTS（文本转语音）API，涵盖环境准备、快速生成音频、功能参数调整及典型应用场景实践，助力将语音交互能力集成到各类应用中。"
   ]
  },
  {
   "cell_type": "markdown",
   "metadata": {},
   "source": [
    "## 2. 环境准备"
   ]
  },
  {
   "cell_type": "markdown",
   "metadata": {},
   "source": [
    "### 2.1 安装依赖库\n",
    "\n",
    "需安装 `requests` 用于 API 调用，`IPython` 用于音频播放（Jupyter 环境自带，若缺失可手动安装）。"
   ]
  },
  {
   "cell_type": "code",
   "execution_count": null,
   "metadata": {},
   "outputs": [],
   "source": [
    "# 安装必要依赖\n",
    "!pip install requests -q"
   ]
  },
  {
   "cell_type": "markdown",
   "metadata": {},
   "source": [
    "### 2.2 核心前置条件\n",
    "\n",
    "1.  获取阶跃星辰 API 密钥（`STEP_API_KEY`）：需通过阶跃星辰开发者平台申请\n",
    "2.  确认网络环境可访问 API 域名：`api.stepfun.com`"
   ]
  },
  {
   "cell_type": "code",
   "execution_count": 2,
   "metadata": {},
   "outputs": [],
   "source": [
    "import os\n",
    "# 配置 API 密钥\n",
    "STEP_API_KEY = os.getenv(\"STEPFUN_API_KEY\") \n",
    "BASE_URL = \"https://api.stepfun.com/v1/audio/speech\""
   ]
  },
  {
   "cell_type": "markdown",
   "metadata": {},
   "source": [
    "## 3. 快速开始：生成第一段音频\n",
    "\n",
    "基于文档提供的基础示例，通过 Python 实现音频生成、保存与播放。"
   ]
  },
  {
   "cell_type": "code",
   "execution_count": 9,
   "metadata": {},
   "outputs": [
    {
     "name": "stdout",
     "output_type": "stream",
     "text": [
      "音频已生成并保存至：./media/06_step_basic.mp3\n"
     ]
    }
   ],
   "source": [
    "import requests\n",
    "\n",
    "def generate_basic_audio(api_key, output_path=\"./media/06_step_basic.mp3\"):\n",
    "    \"\"\"生成基础示例音频\"\"\"\n",
    "    headers = {\n",
    "        \"Content-Type\": \"application/json\",\n",
    "        \"Authorization\": f\"Bearer {api_key}\"\n",
    "    }\n",
    "    \n",
    "    # 请求参数（参考文档基础示例）\n",
    "    payload = {\n",
    "        \"model\": \"step-tts-mini\",  # 选用轻量模型\n",
    "        \"input\": \"智能阶跃，十倍每一个人的可能\",  # 待转换文本\n",
    "        \"voice\": \"cixingnansheng\"  # 音色：磁性男声\n",
    "    }\n",
    "    \n",
    "    try:\n",
    "        # 发送 POST 请求\n",
    "        response = requests.post(BASE_URL, json=payload, headers=headers)\n",
    "        response.raise_for_status()  # 捕获 HTTP 错误\n",
    "        \n",
    "        # 保存音频文件\n",
    "        with open(output_path, \"wb\") as f:\n",
    "            f.write(response.content)\n",
    "        print(f\"音频已生成并保存至：{output_path}\")\n",
    "        return output_path\n",
    "    \n",
    "    except Exception as e:\n",
    "        print(f\"生成失败：{str(e)}\")\n",
    "        return None\n",
    "\n",
    "# 执行生成\n",
    "audio_path = generate_basic_audio(STEP_API_KEY)"
   ]
  },
  {
   "cell_type": "code",
   "execution_count": 11,
   "metadata": {},
   "outputs": [],
   "source": [
    "# 播放生成的音频（仅支持 Jupyter 环境）\n",
    "from IPython.display import Audio\n",
    "\n",
    "if audio_path:\n",
    "    Audio(audio_path)"
   ]
  },
  {
   "cell_type": "markdown",
   "metadata": {},
   "source": [
    "## 4. 核心功能详解"
   ]
  },
  {
   "cell_type": "markdown",
   "metadata": {},
   "source": [
    "### 4.1 模型与音色选择\n",
    "\n",
    "阶跃星辰提供两种 TTS 模型，音色支持各有侧重，可根据场景需求选择。\n",
    "\n",
    "#### 模型对比表\n",
    "\n",
    "| 模型名称           | 音色数量 | 核心特点        | 适用场景             |\n",
    "| -------------- | ---- | ----------- | ---------------- |\n",
    "| step-tts-vivid | 4 种  | 优质生动，场景适配性强 | 客服外呼、陪伴场景等       |\n",
    "| step-tts-mini  | 19 种 | 轻量多样，支持音色复刻 | 游戏 NPC、有声书等个性化场景 |\n",
    "\n",
    "#### 常用音色调用示例"
   ]
  },
  {
   "cell_type": "code",
   "execution_count": 6,
   "metadata": {},
   "outputs": [],
   "source": [
    "# step-tts-vivid 音色示例（干练女声-客服场景）\n",
    "payload_vivid = {\n",
    "    \"model\": \"step-tts-vivid\",\n",
    "    \"input\": \"您好，请问有什么可以帮您？\",\n",
    "    \"voice\": \"ganliannvsheng\"  # 干练女声 Voice ID\n",
    "}\n",
    "\n",
    "# step-tts-mini 音色示例（冷艳御姐-游戏NPC）\n",
    "payload_mini = {\n",
    "    \"model\": \"step-tts-mini\",\n",
    "    \"input\": \"此路不通，速速退去！\",\n",
    "    \"voice\": \"lengyanyujie\"  # 冷艳御姐 Voice ID\n",
    "}"
   ]
  },
  {
   "cell_type": "markdown",
   "metadata": {},
   "source": [
    "### 4.2 输出格式与语言设置\n",
    "\n",
    "#### 支持的输出格式\n",
    "\n",
    "默认输出 `mp3` 格式，可通过 `response_format` 参数指定其他格式：\n",
    "\n",
    "*   可选格式：`wav`、`mp3`、`flac`、`opus`\n",
    "\n",
    "#### 支持的输出语言\n",
    "\n",
    "*   中文、英文、中英混合、日语"
   ]
  },
  {
   "cell_type": "code",
   "execution_count": 7,
   "metadata": {},
   "outputs": [
    {
     "name": "stdout",
     "output_type": "stream",
     "text": [
      "自定义音频已保存至：./media/06_english_audio.wav（格式：wav）\n"
     ]
    }
   ],
   "source": [
    "def generate_custom_audio(api_key, text, model=\"step-tts-mini\", voice=\"cixingnansheng\",\n",
    "                         response_format=\"wav\", language=\"zh\", output_path=\"custom_audio.wav\"):\n",
    "    \"\"\"生成自定义格式/语言的音频\"\"\"\n",
    "    headers = {\n",
    "        \"Content-Type\": \"application/json\",\n",
    "        \"Authorization\": f\"Bearer {api_key}\"\n",
    "    }\n",
    "    \n",
    "    payload = {\n",
    "        \"model\": model,\n",
    "        \"input\": text,\n",
    "        \"voice\": voice,\n",
    "        \"response_format\": response_format  # 指定输出格式\n",
    "        # 语言参数默认适配文本，复杂场景可显式指定\n",
    "    }\n",
    "    \n",
    "    try:\n",
    "        response = requests.post(BASE_URL, json=payload, headers=headers)\n",
    "        response.raise_for_status()\n",
    "        \n",
    "        with open(output_path, \"wb\") as f:\n",
    "            f.write(response.content)\n",
    "        print(f\"自定义音频已保存至：{output_path}（格式：{response_format}）\")\n",
    "        return output_path\n",
    "    \n",
    "    except Exception as e:\n",
    "        print(f\"生成失败：{str(e)}\")\n",
    "        return None\n",
    "\n",
    "# 示例：生成英文+wav格式音频（元气男声）\n",
    "en_audio_path = generate_custom_audio(\n",
    "    api_key=STEP_API_KEY,\n",
    "    text=\"Stepfun AI, empowering possibilities.\",\n",
    "    voice=\"yuanqinansheng\",\n",
    "    response_format=\"wav\",\n",
    "    output_path=\"./media/06_english_audio.wav\"\n",
    ")"
   ]
  },
  {
   "cell_type": "code",
   "execution_count": 8,
   "metadata": {},
   "outputs": [],
   "source": [
    "# 播放自定义音频\n",
    "if en_audio_path:\n",
    "    Audio(en_audio_path)"
   ]
  },
  {
   "cell_type": "markdown",
   "metadata": {},
   "source": [
    "### 4.3 音量与语速调整\n",
    "\n",
    "通过 `volume` 和 `speed` 参数自定义音频效果：\n",
    "\n",
    "*   `volume`：音量系数（0.1~2.0，默认 1.0），0.1=10% 音量，2.0=200% 音量\n",
    "*   `speed`：语速系数（0.5~2.0，默认 1.0），0.5 = 半速，2.0 = 两倍速"
   ]
  },
  {
   "cell_type": "code",
   "execution_count": 20,
   "metadata": {},
   "outputs": [
    {
     "name": "stdout",
     "output_type": "stream",
     "text": [
      "调整后音频已保存：音量150.0%，语速80.0%\n"
     ]
    }
   ],
   "source": [
    "def generate_adjusted_audio(api_key, text, volume=1.0, speed=1.0, output_path=\"./media/06_adjusted_audio.mp3\"):\n",
    "    \"\"\"生成调整音量和语速的音频\"\"\"\n",
    "    headers = {\n",
    "        \"Content-Type\": \"application/json\",\n",
    "        \"Authorization\": f\"Bearer {api_key}\"\n",
    "    }\n",
    "    \n",
    "    payload = {\n",
    "        \"model\": \"step-tts-mini\",\n",
    "        \"input\": text,\n",
    "        \"voice\": \"boyinnansheng\",  # 播音男声\n",
    "        \"volume\": volume,  # 音量参数\n",
    "        \"speed\": speed     # 语速参数\n",
    "    }\n",
    "    \n",
    "    try:\n",
    "        response = requests.post(BASE_URL, json=payload, headers=headers)\n",
    "        response.raise_for_status()\n",
    "        \n",
    "        with open(output_path, \"wb\") as f:\n",
    "            f.write(response.content)\n",
    "        print(f\"调整后音频已保存：音量{volume*100}%，语速{speed*100}%\")\n",
    "        return output_path\n",
    "    \n",
    "    except Exception as e:\n",
    "        print(f\"生成失败：{str(e)}\")\n",
    "        return None\n",
    "\n",
    "# 示例：生成150%音量、0.8倍速的音频\n",
    "adjusted_audio = generate_adjusted_audio(\n",
    "    api_key=STEP_API_KEY,\n",
    "    text=\"欢迎使用阶跃星辰TTS服务，这里是语速和音量调整示例。\",\n",
    "    volume=1.5,\n",
    "    speed=0.8,\n",
    "    output_path=\"./media/06_volume_speed_demo.mp3\"\n",
    ")"
   ]
  },
  {
   "cell_type": "code",
   "execution_count": null,
   "metadata": {},
   "outputs": [],
   "source": [
    "# 播放调整后音频\n",
    "if adjusted_audio:\n",
    "    Audio(adjusted_audio)"
   ]
  },
  {
   "cell_type": "markdown",
   "metadata": {},
   "source": [
    "## 5. 典型应用场景实践"
   ]
  },
  {
   "cell_type": "markdown",
   "metadata": {},
   "source": [
    "### 5.1 场景 1：有声书片段生成\n",
    "\n",
    "需求：将小说文本转换为适配阅读场景的音频，选用温和音色 + 适中语速。"
   ]
  },
  {
   "cell_type": "code",
   "execution_count": 15,
   "metadata": {},
   "outputs": [
    {
     "name": "stdout",
     "output_type": "stream",
     "text": [
      "有声书片段已生成：./media/06_audiobook_segment.mp3\n"
     ]
    }
   ],
   "source": [
    "def generate_audiobook_segment(api_key, novel_text, output_path=\"./media/06_audiobook_segment.mp3\"):\n",
    "    \"\"\"生成有声书片段\"\"\"\n",
    "    headers = {\n",
    "        \"Content-Type\": \"application/json\",\n",
    "        \"Authorization\": f\"Bearer {api_key}\"\n",
    "    }\n",
    "    \n",
    "    payload = {\n",
    "        \"model\": \"step-tts-mini\",\n",
    "        \"input\": novel_text,\n",
    "        \"voice\": \"ruyananshi\",  # 儒雅男士（适合小说旁白）\n",
    "        \"speed\": 0.9,  # 稍慢语速，提升听感\n",
    "        \"volume\": 1.2  # 略高音量，清晰可辨\n",
    "    }\n",
    "    \n",
    "    try:\n",
    "        response = requests.post(BASE_URL, json=payload, headers=headers)\n",
    "        response.raise_for_status()\n",
    "        \n",
    "        with open(output_path, \"wb\") as f:\n",
    "            f.write(response.content)\n",
    "        print(f\"有声书片段已生成：{output_path}\")\n",
    "        return output_path\n",
    "    \n",
    "    except Exception as e:\n",
    "        print(f\"生成失败：{str(e)}\")\n",
    "        return None\n",
    "\n",
    "# 小说文本示例（片段）\n",
    "novel_text = \"夜幕像一块巨大的黑丝绒，缓缓覆盖了整座城市。巷子里的路灯次第亮起，在湿漉漉的地面上投下长长的光影。\"\n",
    "\n",
    "audiobook_path = generate_audiobook_segment(STEP_API_KEY, novel_text)"
   ]
  },
  {
   "cell_type": "code",
   "execution_count": null,
   "metadata": {},
   "outputs": [],
   "source": [
    "# 播放有声书片段\n",
    "if audiobook_path:\n",
    "    Audio(audiobook_path)"
   ]
  },
  {
   "cell_type": "markdown",
   "metadata": {},
   "source": [
    "### 5.2 场景 2：游戏 NPC 语音生成\n",
    "\n",
    "需求：为战斗型 NPC 生成台词，选用冷硬音色 + 稍快语速，增强紧张感。"
   ]
  },
  {
   "cell_type": "code",
   "execution_count": 17,
   "metadata": {},
   "outputs": [
    {
     "name": "stdout",
     "output_type": "stream",
     "text": [
      "NPC语音已生成：./media/06_npc_voice.mp3\n"
     ]
    }
   ],
   "source": [
    "def generate_game_npc_voice(api_key, npc_lines, output_path=\"./media/06_npc_voice.mp3\"):\n",
    "    \"\"\"生成游戏NPC语音\"\"\"\n",
    "    headers = {\n",
    "        \"Content-Type\": \"application/json\",\n",
    "        \"Authorization\": f\"Bearer {api_key}\"\n",
    "    }\n",
    "    \n",
    "    payload = {\n",
    "        \"model\": \"step-tts-mini\",\n",
    "        \"input\": npc_lines,\n",
    "        \"voice\": \"shenchennanyin\",  # 深沉男音（适合战斗NPC）\n",
    "        \"speed\": 1.3,  # 稍快语速，增强气势\n",
    "        \"volume\": 1.5  # 高音量，突出战斗氛围\n",
    "    }\n",
    "    \n",
    "    try:\n",
    "        response = requests.post(BASE_URL, json=payload, headers=headers)\n",
    "        response.raise_for_status()\n",
    "        \n",
    "        with open(output_path, \"wb\") as f:\n",
    "            f.write(response.content)\n",
    "        print(f\"NPC语音已生成：{output_path}\")\n",
    "        return output_path\n",
    "    \n",
    "    except Exception as e:\n",
    "        print(f\"生成失败：{str(e)}\")\n",
    "        return None\n",
    "\n",
    "# NPC战斗台词\n",
    "npc_lines = \"入侵者！休想越过此地半步！拿出你的武器，让我看看你的实力！\"\n",
    "\n",
    "npc_audio_path = generate_game_npc_voice(STEP_API_KEY, npc_lines)"
   ]
  },
  {
   "cell_type": "code",
   "execution_count": null,
   "metadata": {},
   "outputs": [],
   "source": [
    "# 播放NPC语音\n",
    "if npc_audio_path:\n",
    "    Audio(npc_audio_path)"
   ]
  },
  {
   "cell_type": "markdown",
   "metadata": {},
   "source": [
    "## 6. 常见问题（FAQ）解答\n",
    "\n",
    "\n",
    "1.  **音频所有权**：生成的音频归开发者所有，但建议在产品中注明 “AI 生成” 以提示用户。\n",
    "2.  **音量调整**：通过 API 请求的 `volume` 参数设置（0.1~2.0），详见 4.3 节示例。\n",
    "3.  **语速调整**：通过 API 请求的 `speed` 参数设置（0.5~2.0），详见 4.3 节示例。\n",
    "4.  **音色复刻**：`step-tts-mini` 支持自定义音色复刻，需通过开发者平台额外申请该能力。"
   ]
  },
  {
   "cell_type": "markdown",
   "metadata": {},
   "source": [
    "## 7. 扩展建议\n",
    "\n",
    "\n",
    "1.  **批量生成**：对于有声书、NPC 台词等批量需求，可封装循环逻辑批量调用 API。\n",
    "2.  **错误处理**：生产环境中建议增加超时重试、请求频率控制（参考平台限流规则）。\n",
    "3.  **上下文结合**：结合大模型生成文本后，通过分句处理再调用 TTS，优化长文本朗读效果。\n",
    "4.  **音色管理**：对于多场景应用，可维护音色 ID 映射表，动态匹配场景需求。\n"
   ]
  }
 ],
 "metadata": {
  "kernelspec": {
   "display_name": "py311",
   "language": "python",
   "name": "python3"
  },
  "language_info": {
   "codemirror_mode": {
    "name": "ipython",
    "version": 3
   },
   "file_extension": ".py",
   "mimetype": "text/x-python",
   "name": "python",
   "nbconvert_exporter": "python",
   "pygments_lexer": "ipython3",
   "version": "3.11.13"
  }
 },
 "nbformat": 4,
 "nbformat_minor": 4
}
