{
 "cells": [
  {
   "cell_type": "markdown",
   "metadata": {},
   "source": [
    "# 完整指南：使用阶跃星辰知识库（RAG）实现检索增强生成\n",
    "\n",
    "本 `ipynb` 文件旨在详细演示如何利用阶跃星辰 API 实现 RAG（检索增强生成）功能，涵盖文件上传、知识库创建、文件关联以及最终使用的全过程。\n",
    "\n",
    "**RAG 完整流程：**\n",
    "1.  **准备知识**: 使用本地文件。\n",
    "2.  **上传文件**: 将本地 PDF 文件上传到平台，设置 `purpose` 为 `retrieval-text`。\n",
    "3.  **创建知识库**: 创建一个 Vector Store 容器。\n",
    "4.  **关联文件**: 将上传的文件与知识库关联。\n",
    "5.  **对话补全**: 在 Chat API 调用中指定知识库 ID，启用 RAG 检索。"
   ]
  },
  {
   "cell_type": "code",
   "execution_count": 1,
   "metadata": {},
   "outputs": [],
   "source": [
    "import requests\n",
    "import json\n",
    "import os\n",
    "from openai import OpenAI\n",
    "from requests_toolbelt.multipart.encoder import MultipartEncoder\n",
    "\n",
    "# --- 替换为你自己的 API Key --- \n",
    "STEP_API_KEY = os.getenv(\"STEPFUN_API_KEY\")\n",
    "BASE_URL = \"https://api.stepfun.com/v1\"\n",
    "COMPLETION_MODEL = \"step-1-32k\"\n",
    "\n",
    "# 指定您要上传的 PDF 文件名\n",
    "DEMO_FILE_NAME = \"./media/08_step-audio2.pdf\"\n",
    "\n",
    "# 存储流程中产生的关键 ID\n",
    "UPLOADED_FILE_ID = \"\" \n",
    "VECTOR_STORE_ID = \"\" \n",
    "\n",
    "headers = {\n",
    "    \"Authorization\": f\"Bearer {STEP_API_KEY}\"\n",
    "}\n",
    "\n",
    "client = OpenAI(\n",
    "    api_key=STEP_API_KEY, \n",
    "    base_url=BASE_URL\n",
    ")\n",
    "\n",
    "if not os.path.exists(DEMO_FILE_NAME):\n",
    "    print(f\"⚠️ 错误：请确保文件 {DEMO_FILE_NAME} 存在于当前目录下，以便进行上传。\")\n"
   ]
  },
  {
   "cell_type": "markdown",
   "metadata": {},
   "source": [
    "## 1. 准备本地演示文件\n",
    "\n",
    "本步骤使用您指定的本地文件 `08_step-audio2.pdf`。请确保该文件已放置在运行此 Notebook 的同一目录下。"
   ]
  },
  {
   "cell_type": "code",
   "execution_count": 2,
   "metadata": {},
   "outputs": [
    {
     "name": "stdout",
     "output_type": "stream",
     "text": [
      "✅ 本地文件 ./media/08_step-audio2.pdf 准备就绪，可以进行上传。\n"
     ]
    }
   ],
   "source": [
    "if os.path.exists(DEMO_FILE_NAME):\n",
    "    print(f\"✅ 本地文件 {DEMO_FILE_NAME} 准备就绪，可以进行上传。\")\n",
    "else:\n",
    "    print(f\"❌ 警告：文件 {DEMO_FILE_NAME} 未找到，请检查路径。\")"
   ]
  },
  {
   "cell_type": "markdown",
   "metadata": {},
   "source": [
    "## 2. 上传文件到平台\n",
    "\n",
    "使用 `client.files.create` 接口上传 PDF 文件。对于 RAG 知识库，`purpose` 必须设置为 `retrieval-text`。"
   ]
  },
  {
   "cell_type": "code",
   "execution_count": 7,
   "metadata": {},
   "outputs": [
    {
     "name": "stdout",
     "output_type": "stream",
     "text": [
      "正在上传文件 ./media/08_step-audio2.pdf...\n",
      "✅ 文件上传成功！\n",
      "文件 ID: file-LkO5dJwUW8\n",
      "文件状态: None\n"
     ]
    }
   ],
   "source": [
    "if not os.path.exists(DEMO_FILE_NAME):\n",
    "    print(\"⚠️ 文件不存在，跳过上传步骤。\")\n",
    "else:\n",
    "    try:\n",
    "        print(f\"正在上传文件 {DEMO_FILE_NAME}...\")\n",
    "        \n",
    "        with open(DEMO_FILE_NAME, \"rb\") as f:\n",
    "            uploaded_file = client.files.create(\n",
    "                file=f,\n",
    "                purpose=\"retrieval-text\" # 知识库的文本检索用途\n",
    "            )\n",
    "        \n",
    "        UPLOADED_FILE_ID = uploaded_file.id\n",
    "        \n",
    "        print(\"✅ 文件上传成功！\")\n",
    "        print(f\"文件 ID: {UPLOADED_FILE_ID}\")\n",
    "        # 注意：文件状态为 processed 后才能被关联到知识库\n",
    "        print(f\"文件状态: {uploaded_file.status}\") \n",
    "        \n",
    "    except Exception as e:\n",
    "        print(f\"❌ 文件上传失败: {e}\")"
   ]
  },
  {
   "cell_type": "markdown",
   "metadata": {},
   "source": [
    "## 3. 创建知识库（Vector Store）\n",
    "\n",
    "创建一个知识库容器，用于存储和管理与该 PDF 文件相关的知识。"
   ]
  },
  {
   "cell_type": "code",
   "execution_count": 4,
   "metadata": {},
   "outputs": [
    {
     "name": "stdout",
     "output_type": "stream",
     "text": [
      "正在创建知识库...\n",
      "✅ 知识库创建成功！\n",
      "知识库 ID: 294402242740027392\n"
     ]
    }
   ],
   "source": [
    "url = f\"{BASE_URL}/vector_stores\"\n",
    "create_vector_store_headers = headers.copy()\n",
    "create_vector_store_headers[\"Content-Type\"] = \"application/json\"\n",
    "\n",
    "data = {\n",
    "    \"name\": \"audio2_pdf_knowledge\"\n",
    "}\n",
    "\n",
    "print(\"正在创建知识库...\")\n",
    "try:\n",
    "    response = requests.post(url, headers=create_vector_store_headers, json=data)\n",
    "    response.raise_for_status() \n",
    "    result = response.json()\n",
    "    \n",
    "    VECTOR_STORE_ID = result.get(\"id\")\n",
    "    \n",
    "    print(\"✅ 知识库创建成功！\")\n",
    "    print(f\"知识库 ID: {VECTOR_STORE_ID}\")\n",
    "    \n",
    "except requests.exceptions.HTTPError as e:\n",
    "    print(f\"❌ 知识库创建失败: {e} - {response.text}\")"
   ]
  },
  {
   "cell_type": "markdown",
   "metadata": {},
   "source": [
    "## 4. 知识库关联文件\n",
    "\n",
    "将已上传的文件（`UPLOADED_FILE_ID`）关联到知识库（`VECTOR_STORE_ID`）中。**重要提示**：在实际应用中，您可能需要等待几秒或轮询文件状态，确保文件处理完成才能成功关联。"
   ]
  },
  {
   "cell_type": "code",
   "execution_count": 5,
   "metadata": {},
   "outputs": [
    {
     "name": "stdout",
     "output_type": "stream",
     "text": [
      "正在将文件 file-LkMduLpJPk 关联到知识库 294402242740027392...\n",
      "✅ 文件关联成功！\n",
      "{\n",
      "  \"id\": \"file-LkMduLpJPk\",\n",
      "  \"usage_bytes\": 872404,\n",
      "  \"vector_store_id\": \"294402242740027392\"\n",
      "}\n"
     ]
    }
   ],
   "source": [
    "if not VECTOR_STORE_ID or not UPLOADED_FILE_ID:\n",
    "    print(\"⚠️ ID 缺失，请先成功执行前面的步骤！\")\n",
    "else:\n",
    "    url = f\"{BASE_URL}/vector_stores/{VECTOR_STORE_ID}/files\"\n",
    "    \n",
    "    # 准备 multipart 数据\n",
    "    multipart_data = MultipartEncoder(\n",
    "        fields={\n",
    "            \"file_ids\": UPLOADED_FILE_ID\n",
    "        }\n",
    "    )\n",
    "\n",
    "    associate_headers = headers.copy()\n",
    "    associate_headers[\"Content-Type\"] = multipart_data.content_type\n",
    "\n",
    "    print(f\"正在将文件 {UPLOADED_FILE_ID} 关联到知识库 {VECTOR_STORE_ID}...\")\n",
    "    try:\n",
    "        response = requests.post(url, headers=associate_headers, data=multipart_data)\n",
    "        response.raise_for_status()\n",
    "        result = response.json()\n",
    "        \n",
    "        print(\"✅ 文件关联成功！\")\n",
    "        print(json.dumps(result, indent=2, ensure_ascii=False))\n",
    "        \n",
    "    except requests.exceptions.HTTPError as e:\n",
    "        print(f\"❌ 文件关联失败: {e} - {response.text}\")"
   ]
  },
  {
   "cell_type": "markdown",
   "metadata": {},
   "source": [
    "## 5. 使用知识库进行对话补全\n",
    "\n",
    "在 `chat.completions.create` 接口中，通过 `tools` 参数启用 `retrieval`，并指向你的知识库 ID。模型将基于 `08_step-audio2.pdf` 的内容进行回答。"
   ]
  },
  {
   "cell_type": "code",
   "execution_count": 6,
   "metadata": {},
   "outputs": [
    {
     "name": "stdout",
     "output_type": "stream",
     "text": [
      "--- 正在使用知识库进行对话补全（流式输出）---\n",
      "模型回答:\n",
      "很抱歉，我无法回答你关于文档中提到的音频处理关键技术点的问题，因为我没有访问到具体的文档内容。如果你能提供更多关于文档的上下文或相关信息，我将尽力帮助你找到答案。请提供更多细节，以便我能够更好地为你服务。\n",
      "\n",
      "--- 对话补全结束 ---\n",
      "\n"
     ]
    }
   ],
   "source": [
    "if not VECTOR_STORE_ID:\n",
    "    print(\"⚠️ 知识库 ID 缺失，无法进行对话补全演示！\")\n",
    "else:\n",
    "    sys_prompt = \"\"\"\n",
    "你是一名专业的技术文档分析师。你的任务是根据知识库检索到的信息，准确回答用户关于文档内容的问题。如果知识库中没有答案，请明确告知用户。\n",
    "\"\"\"\n",
    "    # 假设提问与 PDF 内容相关\n",
    "    user_prompt = \"文档中提到关于音频处理的关键技术点是什么？\"\n",
    "    messages = [\n",
    "        { \"role\": \"system\", \"content\": sys_prompt },\n",
    "        { \"role\": \"user\", \"content\": user_prompt }\n",
    "    ]\n",
    "\n",
    "    tools = [\n",
    "        {\n",
    "            \"type\": \"retrieval\",\n",
    "            \"function\": {\n",
    "                \"name\": \"pdf_document_search\",\n",
    "                \"description\": \"本文档存储了关于音频技术的详细信息。\", \n",
    "                \"options\": {\n",
    "                    \"vector_store_id\": VECTOR_STORE_ID, # 你的知识库 ID\n",
    "                    \"prompt_template\": \"从文档{{knowledge}} 中找到问题{{query}} 的答案。\"\n",
    "                }\n",
    "            }\n",
    "        }\n",
    "    ]\n",
    "\n",
    "    print(\"--- 正在使用知识库进行对话补全（流式输出）---\")\n",
    "    try:\n",
    "        response = client.chat.completions.create(\n",
    "            messages=messages,\n",
    "            model=COMPLETION_MODEL,\n",
    "            tool_choice=\"auto\",\n",
    "            tools=tools,\n",
    "            stream=True,\n",
    "        )\n",
    "        \n",
    "        print(\"模型回答:\")\n",
    "        for chunk in response:\n",
    "            if chunk.choices and chunk.choices[0].delta.content:\n",
    "                print(chunk.choices[0].delta.content, end='', flush=True)\n",
    "        print(\"\\n\\n--- 对话补全结束 ---\\n\")\n",
    "        \n",
    "    except Exception as e:\n",
    "        print(f\"❌ 对话补全失败: {e}\")"
   ]
  },
  {
   "cell_type": "markdown",
   "metadata": {},
   "source": [
    "## 6. 清理（可选）\n",
    "\n",
    "清理本地创建的临时文件，以及在平台上的知识库和文件（需要调用相应的删除 API 接口）。"
   ]
  },
  {
   "cell_type": "code",
   "execution_count": null,
   "metadata": {},
   "outputs": [],
   "source": [
    "# # --- 清理示例：删除知识库和文件 --- \n",
    "# if VECTOR_STORE_ID:\n",
    "#     try:\n",
    "#         client.vector_stores.delete(vector_store_id=VECTOR_STORE_ID)\n",
    "#         print(f\"✅ 已删除知识库: {VECTOR_STORE_ID}\")\n",
    "#     except Exception as e:\n",
    "#         print(f\"❌ 删除知识库失败: {e}\")\n",
    "\n",
    "# if UPLOADED_FILE_ID:\n",
    "#     try:\n",
    "#         client.files.delete(file_id=UPLOADED_FILE_ID)\n",
    "#         print(f\"✅ 已删除上传文件: {UPLOADED_FILE_ID}\")\n",
    "#     except Exception as e:\n",
    "#         print(f\"❌ 删除文件失败: {e}\")"
   ]
  },
  {
   "cell_type": "markdown",
   "metadata": {},
   "source": [
    "# 阶跃星辰 API 指南：知识库（Vector Store）完整管理\n",
    "\n",
    "本 `ipynb` 文件旨在演示阶跃星辰开放平台提供的 **知识库（Vector Store）** 相关的全部 API 操作，涵盖知识库本身的 CRUD 操作和知识库内文件的管理。\n",
    "\n",
    "## 知识库 API 概览：\n",
    "\n",
    "| 功能模块 | 接口说明 | HTTP 方法 | 对应的 API 链接 |\n",
    "| :--- | :--- | :--- | :--- |\n",
    "| **知识库管理** | 创建知识库 | `POST` | `/v1/vector_stores` |\n",
    "| | 查询知识库列表 | `GET` | `/v1/vector_stores` |\n",
    "| | 获取知识库详情 | `GET` | `/v1/vector_stores/{id}` |\n",
    "| | 删除知识库 | `DELETE` | `/v1/vector_stores/{id}` |\n",
    "| **文件管理** | 将文件添加到知识库 | `POST` | `/v1/vector_stores/{id}/files` |\n",
    "| | 查看知识库中的文件 | `GET` | `/v1/vector_stores/{id}/files` |\n",
    "| | 将文件从知识库中移除 | `DELETE` | `/v1/vector_stores/{id}/files/{file_id}` |\n",
    "\n",
    "---"
   ]
  },
  {
   "cell_type": "code",
   "execution_count": 8,
   "metadata": {},
   "outputs": [],
   "source": [
    "import requests\n",
    "import json\n",
    "import os\n",
    "import time\n",
    "from openai import OpenAI\n",
    "from requests_toolbelt.multipart.encoder import MultipartEncoder\n",
    "\n",
    "# --- 配置和全局变量 --- \n",
    "STEP_API_KEY = os.getenv(\"STEPFUN_API_KEY\") # ⚠️ 替换为您的 API Key\n",
    "BASE_URL = \"https://api.stepfun.com/v1\"\n",
    "DEMO_FILE_NAME = \"./media/08_step-audio2.pdf\" # ⚠️ 请确保此文件存在于当前目录\n",
    "\n",
    "# 存储流程中产生的关键 ID\n",
    "UPLOADED_FILE_ID = \"\" \n",
    "VECTOR_STORE_ID = \"\" \n",
    "VECTOR_STORE_FILE_ID = \"\" # 关联后返回的对象ID\n",
    "\n",
    "headers = {\n",
    "    \"Authorization\": f\"Bearer {STEP_API_KEY}\"\n",
    "}\n",
    "\n",
    "client = OpenAI(\n",
    "    api_key=STEP_API_KEY, \n",
    "    base_url=BASE_URL\n",
    ")\n",
    "\n",
    "if not os.path.exists(DEMO_FILE_NAME):\n",
    "    print(f\"⚠️ 错误：请确保文件 {DEMO_FILE_NAME} 存在于当前目录下。\")"
   ]
  },
  {
   "cell_type": "markdown",
   "metadata": {},
   "source": [
    "## A. 知识库准备：文件上传\n",
    "\n",
    "首先，上传文件并获取 `file_id`，这是后续知识库文件管理的基础。`purpose` 必须为 `retrieval-text`。"
   ]
  },
  {
   "cell_type": "code",
   "execution_count": null,
   "metadata": {},
   "outputs": [],
   "source": [
    "if not os.path.exists(DEMO_FILE_NAME):\n",
    "    print(\"❌ 文件不存在，跳过上传。\")\n",
    "else:\n",
    "    try:\n",
    "        print(f\"[A.1] 正在上传文件 {DEMO_FILE_NAME}...\")\n",
    "        with open(DEMO_FILE_NAME, \"rb\") as f:\n",
    "            uploaded_file = client.files.create(\n",
    "                file=f,\n",
    "                purpose=\"retrieval-text\" \n",
    "            )\n",
    "        \n",
    "        global UPLOADED_FILE_ID\n",
    "        UPLOADED_FILE_ID = uploaded_file.id\n",
    "        \n",
    "        print(\"✅ 文件上传成功！\")\n",
    "        print(f\"文件 ID: {UPLOADED_FILE_ID} | 状态: {uploaded_file.status}\")\n",
    "        print(\"等待文件处理完成... (约 10 秒)\")\n",
    "        time.sleep(10) # 模拟等待文件处理完成\n",
    "        \n",
    "    except Exception as e:\n",
    "        print(f\"❌ 文件上传失败: {e}\")"
   ]
  },
  {
   "cell_type": "markdown",
   "metadata": {},
   "source": [
    "## B. 知识库管理（Vector Store CRUD）\n",
    "\n",
    "演示创建、列出、获取详情和删除知识库的 API 操作。"
   ]
  },
  {
   "cell_type": "code",
   "execution_count": 9,
   "metadata": {},
   "outputs": [
    {
     "name": "stdout",
     "output_type": "stream",
     "text": [
      "\n",
      "--- [B.1] 创建知识库 ---\n",
      "✅ 创建成功！\n",
      "知识库 ID: 294407544549998592\n",
      "\n",
      "--- [B.2] 查询知识库列表 ---\n",
      "✅ 查询列表成功！\n",
      "总数: 1 / Audio2_Tech_Docs\n",
      "\n",
      "--- [B.3] 获取知识库详情 ---\n",
      "✅ 获取详情成功！\n",
      "ID: 294407544549998592, 名称: Audio2_Tech_Docs, 文件数: 0\n"
     ]
    }
   ],
   "source": [
    "# [B.1] 创建知识库 (Create Vector Store)\n",
    "print(\"\\n--- [B.1] 创建知识库 ---\")\n",
    "url = f\"{BASE_URL}/vector_stores\"\n",
    "create_headers = headers.copy()\n",
    "create_headers[\"Content-Type\"] = \"application/json\"\n",
    "data = {\"name\": \"Audio2_Tech_Docs\"}\n",
    "\n",
    "try:\n",
    "    response = requests.post(url, headers=create_headers, json=data)\n",
    "    response.raise_for_status()\n",
    "    result = response.json()\n",
    "    \n",
    "    global VECTOR_STORE_ID\n",
    "    VECTOR_STORE_ID = result.get(\"id\")\n",
    "    \n",
    "    print(\"✅ 创建成功！\")\n",
    "    print(f\"知识库 ID: {VECTOR_STORE_ID}\")\n",
    "except requests.exceptions.HTTPError as e:\n",
    "    print(f\"❌ 创建失败: {e} - {response.text}\")\n",
    "\n",
    "# [B.2] 查询知识库列表 (List Vector Stores)\n",
    "if VECTOR_STORE_ID:\n",
    "    print(\"\\n--- [B.2] 查询知识库列表 ---\")\n",
    "    url_list = f\"{BASE_URL}/vector_stores?limit=1\"\n",
    "    try:\n",
    "        response = requests.get(url_list, headers=headers)\n",
    "        response.raise_for_status()\n",
    "        result = response.json()\n",
    "        \n",
    "        print(\"✅ 查询列表成功！\")\n",
    "        print(f\"总数: {len(result['data'])} / {result['data'][0]['name']}\")\n",
    "    except requests.exceptions.HTTPError as e:\n",
    "        print(f\"❌ 查询列表失败: {e}\")\n",
    "\n",
    "# [B.3] 获取知识库详情 (Retrieve Vector Store)\n",
    "if VECTOR_STORE_ID:\n",
    "    print(\"\\n--- [B.3] 获取知识库详情 ---\")\n",
    "    url_retrieve = f\"{BASE_URL}/vector_stores/{VECTOR_STORE_ID}\"\n",
    "    try:\n",
    "        response = requests.get(url_retrieve, headers=headers)\n",
    "        response.raise_for_status()\n",
    "        result = response.json()\n",
    "        \n",
    "        print(\"✅ 获取详情成功！\")\n",
    "        print(f\"ID: {result['id']}, 名称: {result['name']}, 文件数: {result['file_counts']['total']}\")\n",
    "    except requests.exceptions.HTTPError as e:\n",
    "        print(f\"❌ 获取详情失败: {e}\")"
   ]
  },
  {
   "cell_type": "markdown",
   "metadata": {},
   "source": [
    "## C. 知识库文件管理（Vector Store File CRUD）\n",
    "\n",
    "演示文件与知识库的关联、查询和移除操作。注意：文件本身（`file-id`）需要单独通过 `/v1/files` 接口删除。"
   ]
  },
  {
   "cell_type": "code",
   "execution_count": 10,
   "metadata": {},
   "outputs": [
    {
     "name": "stdout",
     "output_type": "stream",
     "text": [
      "\n",
      "--- [C.2] 查询知识库中的文件列表 ---\n",
      "✅ 查询文件列表成功！\n"
     ]
    },
    {
     "ename": "TypeError",
     "evalue": "object of type 'NoneType' has no len()",
     "output_type": "error",
     "traceback": [
      "\u001b[31m---------------------------------------------------------------------------\u001b[39m",
      "\u001b[31mTypeError\u001b[39m                                 Traceback (most recent call last)",
      "\u001b[36mCell\u001b[39m\u001b[36m \u001b[39m\u001b[32mIn[10]\u001b[39m\u001b[32m, line 36\u001b[39m\n\u001b[32m     33\u001b[39m result = response.json()\n\u001b[32m     35\u001b[39m \u001b[38;5;28mprint\u001b[39m(\u001b[33m\"\u001b[39m\u001b[33m✅ 查询文件列表成功！\u001b[39m\u001b[33m\"\u001b[39m)\n\u001b[32m---> \u001b[39m\u001b[32m36\u001b[39m \u001b[38;5;28mprint\u001b[39m(\u001b[33mf\u001b[39m\u001b[33m\"\u001b[39m\u001b[33m知识库 \u001b[39m\u001b[38;5;132;01m{\u001b[39;00mVECTOR_STORE_ID\u001b[38;5;132;01m}\u001b[39;00m\u001b[33m 中共有 \u001b[39m\u001b[38;5;132;01m{\u001b[39;00m\u001b[38;5;28;43mlen\u001b[39;49m\u001b[43m(\u001b[49m\u001b[43mresult\u001b[49m\u001b[43m[\u001b[49m\u001b[33;43m'\u001b[39;49m\u001b[33;43mdata\u001b[39;49m\u001b[33;43m'\u001b[39;49m\u001b[43m]\u001b[49m\u001b[43m)\u001b[49m\u001b[38;5;132;01m}\u001b[39;00m\u001b[33m 个文件\u001b[39m\u001b[33m\"\u001b[39m)\n\u001b[32m     37\u001b[39m \u001b[38;5;28;01mif\u001b[39;00m result[\u001b[33m'\u001b[39m\u001b[33mdata\u001b[39m\u001b[33m'\u001b[39m]:\n\u001b[32m     38\u001b[39m     \u001b[38;5;28mprint\u001b[39m(\u001b[33mf\u001b[39m\u001b[33m\"\u001b[39m\u001b[33m第一个文件 ID: \u001b[39m\u001b[38;5;132;01m{\u001b[39;00mresult[\u001b[33m'\u001b[39m\u001b[33mdata\u001b[39m\u001b[33m'\u001b[39m][\u001b[32m0\u001b[39m][\u001b[33m'\u001b[39m\u001b[33mid\u001b[39m\u001b[33m'\u001b[39m]\u001b[38;5;132;01m}\u001b[39;00m\u001b[33m, 状态: \u001b[39m\u001b[38;5;132;01m{\u001b[39;00mresult[\u001b[33m'\u001b[39m\u001b[33mdata\u001b[39m\u001b[33m'\u001b[39m][\u001b[32m0\u001b[39m][\u001b[33m'\u001b[39m\u001b[33mstatus\u001b[39m\u001b[33m'\u001b[39m]\u001b[38;5;132;01m}\u001b[39;00m\u001b[33m\"\u001b[39m)\n",
      "\u001b[31mTypeError\u001b[39m: object of type 'NoneType' has no len()"
     ]
    }
   ],
   "source": [
    "# [C.1] 将文件添加到知识库 (Create Vector Store File)\n",
    "if VECTOR_STORE_ID and UPLOADED_FILE_ID:\n",
    "    print(\"\\n--- [C.1] 将文件添加到知识库 ---\")\n",
    "    url_add_file = f\"{BASE_URL}/vector_stores/{VECTOR_STORE_ID}/files\"\n",
    "    \n",
    "    # 准备 multipart 数据，使用文件 ID\n",
    "    multipart_data = MultipartEncoder(fields={\"file_ids\": UPLOADED_FILE_ID})\n",
    "    add_file_headers = headers.copy()\n",
    "    add_file_headers[\"Content-Type\"] = multipart_data.content_type\n",
    "\n",
    "    try:\n",
    "        response = requests.post(url_add_file, headers=add_file_headers, data=multipart_data)\n",
    "        response.raise_for_status()\n",
    "        result = response.json()\n",
    "        \n",
    "        global VECTOR_STORE_FILE_ID\n",
    "        # 关联后返回的是 Vector Store File Object 列表，包含 vector_store_id 和 file_id\n",
    "        VECTOR_STORE_FILE_ID = UPLOADED_FILE_ID # 在 StepFun API 中，移除文件仍使用 File ID\n",
    "        \n",
    "        print(\"✅ 文件添加成功！\")\n",
    "        print(f\"关联文件 ID: {UPLOADED_FILE_ID}, 知识库 ID: {result['vector_store_id']}\")\n",
    "        print(f\"状态: {result['status']}\")\n",
    "    except requests.exceptions.HTTPError as e:\n",
    "        print(f\"❌ 添加文件失败: {e} - {response.text}\")\n",
    "\n",
    "# [C.2] 查看知识库中的文件列表 (List Vector Store Files)\n",
    "if VECTOR_STORE_ID:\n",
    "    print(\"\\n--- [C.2] 查询知识库中的文件列表 ---\")\n",
    "    url_list_files = f\"{BASE_URL}/vector_stores/{VECTOR_STORE_ID}/files?limit=10\"\n",
    "    try:\n",
    "        response = requests.get(url_list_files, headers=headers)\n",
    "        response.raise_for_status()\n",
    "        result = response.json()\n",
    "        \n",
    "        print(\"✅ 查询文件列表成功！\")\n",
    "        print(f\"知识库 {VECTOR_STORE_ID} 中共有 {len(result['data'])} 个文件\")\n",
    "        if result['data']:\n",
    "            print(f\"第一个文件 ID: {result['data'][0]['id']}, 状态: {result['data'][0]['status']}\")\n",
    "    except requests.exceptions.HTTPError as e:\n",
    "        print(f\"❌ 查询文件列表失败: {e}\")"
   ]
  },
  {
   "cell_type": "markdown",
   "metadata": {},
   "source": [
    "## D. 清理操作\n",
    "\n",
    "演示如何从知识库中移除文件以及删除整个知识库。为了避免资源浪费，强烈建议执行清理操作。"
   ]
  },
  {
   "cell_type": "code",
   "execution_count": null,
   "metadata": {},
   "outputs": [],
   "source": [
    "# [D.1] 将文件从知识库中移除 (Delete Vector Store File)\n",
    "if VECTOR_STORE_ID and UPLOADED_FILE_ID:\n",
    "    print(\"\\n--- [D.1] 移除文件 ---\")\n",
    "    url_delete_file = f\"{BASE_URL}/vector_stores/{VECTOR_STORE_ID}/files/{UPLOADED_FILE_ID}\"\n",
    "    try:\n",
    "        response = requests.delete(url_delete_file, headers=headers)\n",
    "        response.raise_for_status()\n",
    "        result = response.json()\n",
    "        \n",
    "        print(f\"✅ 文件 {UPLOADED_FILE_ID} 已从知识库中移除！\")\n",
    "        print(f\"删除状态: {result['deleted']}\")\n",
    "    except requests.exceptions.HTTPError as e:\n",
    "        print(f\"❌ 移除文件失败: {e}\")\n",
    "\n",
    "# [D.2] 删除知识库 (Delete Vector Store)\n",
    "if VECTOR_STORE_ID:\n",
    "    print(\"\\n--- [D.2] 删除知识库 ---\")\n",
    "    url_delete_vs = f\"{BASE_URL}/vector_stores/{VECTOR_STORE_ID}\"\n",
    "    try:\n",
    "        response = requests.delete(url_delete_vs, headers=headers)\n",
    "        response.raise_for_status()\n",
    "        result = response.json()\n",
    "        \n",
    "        print(f\"✅ 知识库 {VECTOR_STORE_ID} 已删除！\")\n",
    "        print(f\"删除状态: {result['deleted']}\")\n",
    "    except requests.exceptions.HTTPError as e:\n",
    "        print(f\"❌ 删除知识库失败: {e}\")\n",
    "        \n",
    "# [D.3] 清理上传的文件 (可选)\n",
    "if UPLOADED_FILE_ID:\n",
    "    print(\"\\n--- [D.3] 清理上传的文件 (Files API) ---\")\n",
    "    try:\n",
    "        client.files.delete(file_id=UPLOADED_FILE_ID)\n",
    "        print(f\"✅ 已删除上传文件: {UPLOADED_FILE_ID}\")\n",
    "    except Exception as e:\n",
    "        print(f\"❌ 删除上传文件失败: {e}\")"
   ]
  }
 ],
 "metadata": {
  "kernelspec": {
   "display_name": "py311",
   "language": "python",
   "name": "python3"
  },
  "language_info": {
   "codemirror_mode": {
    "name": "ipython",
    "version": 3
   },
   "file_extension": ".py",
   "mimetype": "text/x-python",
   "name": "python",
   "nbconvert_exporter": "python",
   "pygments_lexer": "ipython3",
   "version": "3.11.13"
  }
 },
 "nbformat": 4,
 "nbformat_minor": 4
}
