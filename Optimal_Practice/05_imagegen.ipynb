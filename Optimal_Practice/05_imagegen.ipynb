{
 "cells": [
  {
   "cell_type": "markdown",
   "id": "81880118",
   "metadata": {},
   "source": [
    "# 阶跃星辰文生图 API 使用指南（Jupyter Notebook）\n",
    "\n",
    "本 Notebook 基于阶跃星辰文生图 API 文档（[https://platform.stepfun.com/docs/guide/image_generate](https://platform.stepfun.com/docs/guide/image_generate)）编写，包含基础调用、参数配置、高级功能等实操示例，帮助开发者快速集成文生图能力。"
   ]
  },
  {
   "cell_type": "markdown",
   "id": "4fe7db8d",
   "metadata": {},
   "source": [
    "## 1. 环境准备\n",
    "\n",
    "首先安装依赖的 Python 库，API 调用基于 OpenAI SDK 实现。"
   ]
  },
  {
   "cell_type": "code",
   "execution_count": null,
   "id": "1b57b575",
   "metadata": {},
   "outputs": [],
   "source": [
    "# 安装OpenAI SDK\n",
    "!pip install openai --upgrade"
   ]
  },
  {
   "cell_type": "markdown",
   "id": "4dd2ffee",
   "metadata": {},
   "source": [
    "## 2. 基础配置\n",
    "\n",
    "设置 API 密钥、模型名称等核心配置，**请替换为你的实际 STEP_API_KEY**。"
   ]
  },
  {
   "cell_type": "code",
   "execution_count": 3,
   "id": "7ea89ef4",
   "metadata": {},
   "outputs": [],
   "source": [
    "from openai import OpenAI\n",
    "import os\n",
    "\n",
    "# 核心配置\n",
    "STEPFUN_KEY = os.getenv(\"STEPFUN_API_KEY\") # 替换此处为你的API密钥\n",
    "STEPFUN_MODEL = \"step-1x-medium\"   # 阶跃星辰文生图模型\n",
    "BASE_URL = \"https://api.stepfun.com/v1\"  # API基础地址\n",
    "\n",
    "# 初始化客户端\n",
    "client = OpenAI(api_key=STEPFUN_KEY, base_url=BASE_URL)"
   ]
  },
  {
   "cell_type": "markdown",
   "id": "35e35c75",
   "metadata": {},
   "source": [
    "## 3. 基础文生图调用\n",
    "\n",
    "支持两种返回格式：`url`（图片链接）和`base64`（编码数据），可根据业务场景选择。"
   ]
  },
  {
   "cell_type": "markdown",
   "id": "dcac67b9",
   "metadata": {},
   "source": [
    "### 3.1 返回 URL 格式\n",
    "\n",
    "生成图片后返回临时 URL，需下载后存储（URL 有失效时间，不可直接用于用户展示）。"
   ]
  },
  {
   "cell_type": "code",
   "execution_count": 4,
   "id": "46346db1",
   "metadata": {},
   "outputs": [
    {
     "name": "stdout",
     "output_type": "stream",
     "text": [
      "图片1 URL: https://res.stepfun.com/image_gen/20250919/0199615079387bdab3f0916a187701c8.png?X-Tos-Algorithm=TOS4-HMAC-SHA256&X-Tos-Credential=AKLTMmVmYjcxNDdhZWE4NDU4NzllMTc1MmIyMGUzYzBlYWY%2F20250919%2Fcn-shanghai%2Ftos%2Frequest&X-Tos-Date=20250919T093128Z&X-Tos-Expires=3600&X-Tos-Signature=fe146e28c50c567fab00a3410d659de45b58344f7b804ef425abd10a525310a4&X-Tos-SignedHeaders=host\n"
     ]
    }
   ],
   "source": [
    "def generate_image_url(\n",
    "    prompt,\n",
    "    model=STEPFUN_MODEL,\n",
    "    n=1,\n",
    "    size=\"1024x1024\",\n",
    "    steps=50,\n",
    "    seed=0,\n",
    "    cfg_scale=7.5\n",
    "):\n",
    "    \"\"\"生成图片并返回URL格式结果\"\"\"\n",
    "    response = client.images.generate(\n",
    "        model=model,\n",
    "        prompt=prompt,\n",
    "        response_format=\"url\",  # 指定返回URL\n",
    "        extra_body={\"cfg_scale\": cfg_scale, \"seed\": seed, \"steps\": steps},\n",
    "        size=size,\n",
    "        n=n  # 生成图片数量\n",
    "    )\n",
    "    return response.data\n",
    "\n",
    "# 示例：生成古诗意境图\n",
    "if __name__ == \"__main__\":\n",
    "    prompt = \"采菊东篱下，悠然见南山。—— 田园风格，水墨质感，淡雅色调\"\n",
    "    image_results = generate_image_url(prompt)\n",
    "    \n",
    "    # 输出结果（包含图片URL）\n",
    "    for idx, img in enumerate(image_results):\n",
    "        print(f\"图片{idx+1} URL: {img.url}\")\n",
    "        # 提示：可使用requests库下载图片到本地或对象存储"
   ]
  },
  {
   "cell_type": "markdown",
   "id": "1222d828",
   "metadata": {},
   "source": [
    "### 3.2 返回 Base64 格式\n",
    "\n",
    "生成图片的 Base64 编码，可直接解码为图片文件存储。"
   ]
  },
  {
   "cell_type": "code",
   "execution_count": 5,
   "id": "d36be9cd",
   "metadata": {},
   "outputs": [
    {
     "name": "stdout",
     "output_type": "stream",
     "text": [
      "图片1已保存为 05_cat_1.png\n"
     ]
    }
   ],
   "source": [
    "import base64\n",
    "\n",
    "def generate_image_base64(\n",
    "    prompt,\n",
    "    model=STEPFUN_MODEL,\n",
    "    n=1,\n",
    "    size=\"1024x1024\",\n",
    "    steps=50,\n",
    "    seed=11879934,\n",
    "    cfg_scale=7.5\n",
    "):\n",
    "    \"\"\"生成图片并返回Base64格式结果\"\"\"\n",
    "    response = client.images.generate(\n",
    "        model=model,\n",
    "        prompt=prompt,\n",
    "        response_format=\"b64_json\",  # 指定返回Base64\n",
    "        extra_body={\"cfg_scale\": cfg_scale, \"seed\": seed, \"steps\": steps},\n",
    "        size=size,\n",
    "        n=n\n",
    "    )\n",
    "    return response.data\n",
    "\n",
    "# 示例：生成动物图片并保存到本地\n",
    "if __name__ == \"__main__\":\n",
    "    prompt = \"一只猫在树枝上晒太阳，阳光透过树叶，卡通风格\"\n",
    "    image_results = generate_image_base64(prompt)\n",
    "    \n",
    "    # 解码并保存图片\n",
    "    for idx, img in enumerate(image_results):\n",
    "        image_data = base64.b64decode(img.b64_json)\n",
    "        with open(f\"./media/05_cat_{idx+1}.png\", \"wb\") as f:\n",
    "            f.write(image_data)\n",
    "        print(f\"图片{idx+1}已保存为 05_cat_{idx+1}.png\")"
   ]
  },
  {
   "cell_type": "markdown",
   "id": "7b076f04",
   "metadata": {},
   "source": [
    "## 4. 高级功能：垫图生成\n",
    "\n",
    "基于已有图片进行二次生成，支持随机重生成、细节增强、小范围修改等场景，核心参数为`source_weight`。当 source_weight 为 1 时，为图像完全重新生成，垫图将不起任何作用。"
   ]
  },
  {
   "cell_type": "markdown",
   "id": "97039dd0",
   "metadata": {},
   "source": [
    "### 4.1 垫图参数参考\n",
    "\n",
    "| 预期功能     | Prompt 要求                       | source_weight 建议 | 备注                        |\n",
    "| -------- | ------------------------------- | ----------------- | ------------------------- |\n",
    "| 图像随机重新生成 | 尽量还原原图描述                        | 0.8 ～ 1.0         | 保留原图核心内容，风格随机             |\n",
    "| 细节增强     | 还原原图描述 + 质量词（如 finely detailed） | 0 ～ 0.5           | 提升画质，保留原图主体               |\n",
    "| 小范围修改    | 明确写出修改内容                        | 0.3 ～ 0.8         | 易出现异常，大规模修改建议用 Image Edit |"
   ]
  },
  {
   "cell_type": "markdown",
   "id": "256ae7cc",
   "metadata": {},
   "source": [
    "### 4.2 垫图生成示例\n",
    "\n",
    "需先将垫图转换为 Base64 编码，再传入 API 参数。"
   ]
  },
  {
   "cell_type": "code",
   "execution_count": 6,
   "id": "62673479",
   "metadata": {},
   "outputs": [
    {
     "name": "stdout",
     "output_type": "stream",
     "text": [
      "垫图生成结果URL: https://res.stepfun.com/image_gen/20250919/019961514f8173ae9e85a90e77d34450.png?X-Tos-Algorithm=TOS4-HMAC-SHA256&X-Tos-Credential=AKLTMmVmYjcxNDdhZWE4NDU4NzllMTc1MmIyMGUzYzBlYWY%2F20250919%2Fcn-shanghai%2Ftos%2Frequest&X-Tos-Date=20250919T093222Z&X-Tos-Expires=3600&X-Tos-Signature=dc149ce690d8638ea7fcdbc245c14d3b0ca944fc6bf652390abab67eef6a2926&X-Tos-SignedHeaders=host\n"
     ]
    }
   ],
   "source": [
    "import requests\n",
    "\n",
    "def image_to_base64(image_path_or_url):\n",
    "    \"\"\"将图片文件或URL转换为Base64编码\"\"\"\n",
    "    if image_path_or_url.startswith(\"http\"):\n",
    "        # 从URL获取图片\n",
    "        response = requests.get(image_path_or_url)\n",
    "        image_data = response.content\n",
    "    else:\n",
    "        # 从本地文件获取图片\n",
    "        with open(image_path_or_url, \"rb\") as f:\n",
    "            image_data = f.read()\n",
    "    return base64.b64encode(image_data).decode(\"utf-8\")\n",
    "\n",
    "# 垫图生成示例（需替换垫图路径/URL）\n",
    "if __name__ == \"__main__\":\n",
    "    # 1. 准备垫图（示例：本地图片或网络图片URL）\n",
    "    source_image_path = \"./media/05_cat_1.png\"  # 替换为你的垫图路径\n",
    "    source_image_b64 = image_to_base64(source_image_path)\n",
    "    \n",
    "    # 2. 配置参数\n",
    "    prompt = \"一只猫在树枝上晒太阳，阳光透过树叶，卡通风格，猫旁边有一片花瓣\"  # 符合细节增强场景\n",
    "    source_weight = 0.3  # 参考参数表设置\n",
    "    \n",
    "    # 3. 调用API\n",
    "    response = client.images.generate(\n",
    "        model=STEPFUN_MODEL,\n",
    "        prompt=prompt,\n",
    "        response_format=\"url\",\n",
    "        size=\"1024x1024\",\n",
    "        extra_body={\n",
    "            \"cfg_scale\": 7.5,\n",
    "            \"seed\": 11879934,\n",
    "            \"steps\": 50,\n",
    "            \"source_image\": source_image_b64,  # 垫图Base64编码\n",
    "            \"source_weight\": source_weight     # 垫图权重\n",
    "        }\n",
    "    )\n",
    "    \n",
    "    # 4. 输出结果\n",
    "    print(\"垫图生成结果URL:\", response.data[0].url)"
   ]
  },
  {
   "cell_type": "markdown",
   "id": "a20ae310",
   "metadata": {},
   "source": [
    "## 5. 高级功能：风格参考生成（Sref）\n",
    "\n",
    "通过 “文本控制内容 + 图片控制风格” 生成图片，核心参数为`style_reference.weight`（默认 1，建议 0.5~1.5）。"
   ]
  },
  {
   "cell_type": "code",
   "execution_count": null,
   "id": "9a0b0222",
   "metadata": {},
   "outputs": [],
   "source": [
    "# 风格参考生成示例\n",
    "if __name__ == \"__main__\":\n",
    "    # 1. 准备风格参考图（转换为Base64）\n",
    "    style_image_path = \"your_style_image.png\"  # 替换为你的风格参考图\n",
    "    style_image_b64 = image_to_base64(style_image_path)\n",
    "    \n",
    "    # 2. 配置参数\n",
    "    prompt = \"a boat in the canals of venice\"  # 内容描述（英文/中文均可）\n",
    "    style_weight = 1.0  # 风格权重，过大易导致内容泄漏\n",
    "    \n",
    "    # 3. 调用API\n",
    "    response = client.images.generate(\n",
    "        model=STEPFUN_MODEL,\n",
    "        prompt=prompt,\n",
    "        response_format=\"url\",\n",
    "        size=\"1024x1024\",\n",
    "        extra_body={\n",
    "            \"cfg_scale\": 7.5,\n",
    "            \"steps\": 50,\n",
    "            \"style_reference\": {\n",
    "                \"image\": style_image_b64,    # 风格参考图Base64\n",
    "                \"weight\": style_weight       # 风格权重\n",
    "            }\n",
    "        }\n",
    "    )\n",
    "    \n",
    "    # 4. 输出结果\n",
    "    print(\"风格参考生成结果URL:\", response.data[0].url)"
   ]
  },
  {
   "cell_type": "markdown",
   "id": "44d2e44b",
   "metadata": {},
   "source": [
    "## 6. 参数优化与配置"
   ]
  },
  {
   "cell_type": "markdown",
   "id": "158d53d4",
   "metadata": {},
   "source": [
    "### 6.1 调整生成分辨率\n",
    "\n",
    "支持正方形（1:1）和长方形（16:9）分辨率，分辨率越大生成越慢。\n",
    "\n",
    "可选分辨率：\n",
    "\n",
    "*   正方形：256x256、512x512、768x768、1024x1024\n",
    "\n",
    "*   长方形：1280x800（横屏）、800x1280（竖屏）"
   ]
  },
  {
   "cell_type": "code",
   "execution_count": 12,
   "id": "58a61745",
   "metadata": {},
   "outputs": [
    {
     "name": "stdout",
     "output_type": "stream",
     "text": [
      "竖屏图片URL: https://res.stepfun.com/image_gen/20250919/0199614b45ee7d0e8790502bd4ba34f7.png?X-Tos-Algorithm=TOS4-HMAC-SHA256&X-Tos-Credential=AKLTMmVmYjcxNDdhZWE4NDU4NzllMTc1MmIyMGUzYzBlYWY%2F20250919%2Fcn-shanghai%2Ftos%2Frequest&X-Tos-Date=20250919T092547Z&X-Tos-Expires=3600&X-Tos-Signature=dec4930f2f84296d8a487e4e2743cb80c34fcd8b04654ecae6341668327fc8c0&X-Tos-SignedHeaders=host\n"
     ]
    }
   ],
   "source": [
    "# 示例：生成竖屏图片（800x1280）\n",
    "if __name__ == \"__main__\":\n",
    "    prompt = \"山间瀑布，飞流直下，古风插画\"\n",
    "    response = client.images.generate(\n",
    "        model=STEPFUN_MODEL,\n",
    "        prompt=prompt,\n",
    "        response_format=\"url\",\n",
    "        size=\"800x1280\",  # 设置竖屏分辨率\n",
    "        extra_body={\"steps\": 50, \"cfg_scale\": 7.5}\n",
    "    )\n",
    "    print(\"竖屏图片URL:\", response.data[0].url)"
   ]
  },
  {
   "cell_type": "markdown",
   "id": "28e62145",
   "metadata": {},
   "source": [
    "### 6.2 优化生成速度\n",
    "\n",
    "`steps`（生成步数）和`size`（分辨率）直接影响生成速度，可根据业务需求权衡。\n",
    "\n",
    "\n",
    "*   `steps`：越大质量越好，速度越慢（建议 30~80）\n",
    "\n",
    "*   `size`：越小速度越快，细节越少"
   ]
  },
  {
   "cell_type": "code",
   "execution_count": 13,
   "id": "e2c737fb",
   "metadata": {},
   "outputs": [
    {
     "name": "stdout",
     "output_type": "stream",
     "text": [
      "快速生成结果URL: https://res.stepfun.com/image_gen/20250919/0199614b8d8c7605a3e623033f3c728b.png?X-Tos-Algorithm=TOS4-HMAC-SHA256&X-Tos-Credential=AKLTMmVmYjcxNDdhZWE4NDU4NzllMTc1MmIyMGUzYzBlYWY%2F20250919%2Fcn-shanghai%2Ftos%2Frequest&X-Tos-Date=20250919T092605Z&X-Tos-Expires=3600&X-Tos-Signature=acf0c3ef6f732c31dff66ef33902ab667f9fb01d2393d3fc57508ee03e97096a&X-Tos-SignedHeaders=host\n"
     ]
    }
   ],
   "source": [
    "# 示例：快速生成低步数图片（适合实时场景）\n",
    "if __name__ == \"__main__\":\n",
    "    prompt = \"一只可爱的柯基犬，坐姿，简单背景\"\n",
    "    response = client.images.generate(\n",
    "        model=STEPFUN_MODEL,\n",
    "        prompt=prompt,\n",
    "        response_format=\"url\",\n",
    "        size=\"512x512\",  # 小分辨率\n",
    "        extra_body={\"steps\": 30, \"cfg_scale\": 7.0}  # 低步数\n",
    "    )\n",
    "    print(\"快速生成结果URL:\", response.data[0].url)"
   ]
  },
  {
   "cell_type": "markdown",
   "id": "14313198",
   "metadata": {},
   "source": [
    "### 6.3 持续生成相同风格图片\n",
    "\n",
    "固定`seed`值（随机数种子）可保持生成风格一致，适合用户迭代调整 Prompt 的场景。"
   ]
  },
  {
   "cell_type": "code",
   "execution_count": 14,
   "id": "8b0598e9",
   "metadata": {},
   "outputs": [
    {
     "name": "stdout",
     "output_type": "stream",
     "text": [
      "风格基准图URL: https://res.stepfun.com/image_gen/20250919/0199614bdc057ad5af16d01c0b7ea24f.png?X-Tos-Algorithm=TOS4-HMAC-SHA256&X-Tos-Credential=AKLTMmVmYjcxNDdhZWE4NDU4NzllMTc1MmIyMGUzYzBlYWY%2F20250919%2Fcn-shanghai%2Ftos%2Frequest&X-Tos-Date=20250919T092625Z&X-Tos-Expires=3600&X-Tos-Signature=5fd88dacc55f244dcd033920987c7fe331b191377afd3cc68a137642c2873518&X-Tos-SignedHeaders=host\n",
      "同风格调整图URL: https://res.stepfun.com/image_gen/20250919/0199614bf11b7affa363fd961a0b4d1b.png?X-Tos-Algorithm=TOS4-HMAC-SHA256&X-Tos-Credential=AKLTMmVmYjcxNDdhZWE4NDU4NzllMTc1MmIyMGUzYzBlYWY%2F20250919%2Fcn-shanghai%2Ftos%2Frequest&X-Tos-Date=20250919T092630Z&X-Tos-Expires=3600&X-Tos-Signature=319abdc21fc38b19ebcfea2c9c6e34f3bbfa3344cf421bd014103b6534002efb&X-Tos-SignedHeaders=host\n"
     ]
    }
   ],
   "source": [
    "# 示例：固定seed生成相同风格的图片\n",
    "if __name__ == \"__main__\":\n",
    "    # 1. 首次生成（可记录返回的seed，或自行指定）\n",
    "    fixed_seed = 123456  # 自行指定固定seed\n",
    "    \n",
    "    # 2. 第一次生成（Prompt：春日樱花）\n",
    "    prompt1 = \"春日樱花树下的长椅，日系漫画风格\"\n",
    "    res1 = client.images.generate(\n",
    "        model=STEPFUN_MODEL,\n",
    "        prompt=prompt1,\n",
    "        response_format=\"url\",\n",
    "        size=\"1024x1024\",\n",
    "        extra_body={\"seed\": fixed_seed, \"steps\": 50}\n",
    "    )\n",
    "    print(\"风格基准图URL:\", res1.data[0].url)\n",
    "    \n",
    "    # 3. 第二次生成（调整Prompt，保持风格）\n",
    "    prompt2 = \"秋日枫叶树下的长椅，日系漫画风格\"  # 修改场景，保留风格\n",
    "    res2 = client.images.generate(\n",
    "        model=STEPFUN_MODEL,\n",
    "        prompt=prompt2,\n",
    "        response_format=\"url\",\n",
    "        size=\"1024x1024\",\n",
    "        extra_body={\"seed\": fixed_seed, \"steps\": 50}  # 复用相同seed\n",
    "    )\n",
    "    print(\"同风格调整图URL:\", res2.data[0].url)"
   ]
  },
  {
   "cell_type": "markdown",
   "id": "59556267",
   "metadata": {},
   "source": [
    "## 7. 错误处理\n",
    "\n",
    "添加异常捕获逻辑，提升应用健壮性。"
   ]
  },
  {
   "cell_type": "code",
   "execution_count": 15,
   "id": "00ee86f3",
   "metadata": {},
   "outputs": [
    {
     "name": "stdout",
     "output_type": "stream",
     "text": [
      "正常请求结果: 成功\n",
      "无效参数请求结果: 失败，原因：Error code: 400 - {'error': {'message': 'Request param: size is invalid, recommended val is: must be 256x256,512x512,768x768,1024x1024,1280x800,800x1280', 'type': 'input_invalid'}}\n"
     ]
    }
   ],
   "source": [
    "def generate_image_safe(prompt, size=\"1024x1024\"):\n",
    "    \"\"\"带错误处理的图片生成函数\"\"\"\n",
    "    try:\n",
    "        response = client.images.generate(\n",
    "            model=STEPFUN_MODEL,\n",
    "            prompt=prompt,\n",
    "            response_format=\"url\",\n",
    "            size=size,\n",
    "            extra_body={\"steps\": 50, \"cfg_scale\": 7.5}\n",
    "        )\n",
    "        return {\"success\": True, \"data\": response.data}\n",
    "    except Exception as e:\n",
    "        # 捕获常见异常：API密钥错误、参数无效、请求频率超限等\n",
    "        return {\"success\": False, \"error\": str(e)}\n",
    "\n",
    "# 示例：测试错误处理\n",
    "if __name__ == \"__main__\":\n",
    "    # 测试1：正常请求\n",
    "    normal_prompt = \"蓝天白云，草原骏马\"\n",
    "    result1 = generate_image_safe(normal_prompt)\n",
    "    print(\"正常请求结果:\", \"成功\" if result1[\"success\"] else \"失败\")\n",
    "    \n",
    "    # 测试2：无效分辨率（故意传入错误参数）\n",
    "    invalid_prompt = \"测试图片\"\n",
    "    result2 = generate_image_safe(invalid_prompt, size=\"2000x2000\")  # 无效分辨率\n",
    "    print(\"无效参数请求结果:\", \"成功\" if result2[\"success\"] else f\"失败，原因：{result2['error']}\")"
   ]
  },
  {
   "cell_type": "markdown",
   "id": "6c5f4ab8",
   "metadata": {},
   "source": [
    "## 8. 注意事项\n",
    "\n",
    "\n",
    "1.  **API 密钥安全**：切勿将`STEPFUN_KEY`硬编码到前端代码或公开仓库，建议通过环境变量加载。\n",
    "\n",
    "2.  **URL 时效性**：返回的图片 URL 有时间限制，需及时下载并存储到本地 / 对象存储（如 OSS）。\n",
    "\n",
    "3.  **参数范围**：`cfg_scale`建议 1~15（控制 Prompt 遵循度），`steps`建议 20~100（平衡质量与速度）。\n",
    "\n",
    "4.  **功能边界**：垫图生成不适合大规模修改或人脸保持，此类需求建议使用 Image Edit 或 Cref 功能。"
   ]
  },
  {
   "cell_type": "markdown",
   "id": "81bc3d87",
   "metadata": {},
   "source": [
    "## 附录：核心参数说明\n",
    "\n",
    "\n",
    "| 参数名                      | 作用            | 可选值 / 建议范围      |\n",
    "| ------------------------ | ------------- | --------------- |\n",
    "| `prompt`                 | 图片内容描述        | 清晰、具体（支持多语言）    |\n",
    "| `model`                  | 生成模型          | step-1x-medium  |\n",
    "| `response_format`        | 返回格式          | url / b64_json |\n",
    "| `size`                   | 图片分辨率         | 见 6.1 节         |\n",
    "| `steps`                  | 生成步数          | 30~80          |\n",
    "| `seed`                   | 随机种子（控制风格一致性） | 0（随机）或自定义整数     |\n",
    "| `cfg_scale`              | Prompt 遵循度    | 1~15           |\n",
    "| `source_weight`          | 垫图权重          | 0~1.0          |\n",
    "| `style_reference.weight` | 风格参考权重        | 0.5~1.5        |\n"
   ]
  }
 ],
 "metadata": {
  "kernelspec": {
   "display_name": "py311",
   "language": "python",
   "name": "python3"
  },
  "language_info": {
   "codemirror_mode": {
    "name": "ipython",
    "version": 3
   },
   "file_extension": ".py",
   "mimetype": "text/x-python",
   "name": "python",
   "nbconvert_exporter": "python",
   "pygments_lexer": "ipython3",
   "version": "3.11.13"
  }
 },
 "nbformat": 4,
 "nbformat_minor": 5
}
