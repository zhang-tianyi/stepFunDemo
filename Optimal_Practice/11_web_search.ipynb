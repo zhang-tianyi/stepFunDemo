{
 "cells": [
  {
   "cell_type": "markdown",
   "metadata": {},
   "source": [
    "# 使用阶跃星辰 API 进行互联网搜索指南\n",
    "\n",
    "本 `ipynb` 文件旨在演示如何利用阶跃星辰（StepFun）大模型 API 的互联网搜索功能。通过该功能，大模型可以获取实时信息，从而提高回答的质量、时效性和准确性。\n",
    "\n",
    "**核心功能**：通过在 API 请求中加入特定的 `tools` 参数来启用 `web_search` 工具。"
   ]
  },
  {
   "cell_type": "markdown",
   "metadata": {},
   "source": [
    "## 1. 启用互联网搜索\n",
    "\n",
    "要启用互联网搜索功能，你需要在调用 API 时传入 `tools` 参数。该参数是一个列表，其中包含一个定义好的 `web_search` 工具对象。\n",
    "\n",
    "- `type`: 固定为 `\"web_search\"`。\n",
    "- `function.description`: 用来描述何时应使用此工具，这会引导大模型在需要时自动调用互联网搜索。"
   ]
  },
  {
   "cell_type": "code",
   "execution_count": 1,
   "metadata": {},
   "outputs": [
    {
     "name": "stdout",
     "output_type": "stream",
     "text": [
      "Web search tool is defined: [{'type': 'web_search', 'function': {'description': '这个 web_search 用来搜索互联网上的实时信息。'}}]\n"
     ]
    }
   ],
   "source": [
    "# 构建 web_search 工具的定义\n",
    "tools = [\n",
    "    {\n",
    "        \"type\": \"web_search\",  # 类型是固定的\n",
    "        \"function\": {\n",
    "            \"description\": \"这个 web_search 用来搜索互联网上的实时信息。\"  # 描述什么情况下需要搜索\n",
    "        }\n",
    "    }\n",
    "]\n",
    "\n",
    "print(\"Web search tool is defined:\", tools)"
   ]
  },
  {
   "cell_type": "markdown",
   "metadata": {},
   "source": [
    "## 2. 实现步骤 & 参考代码\n",
    "\n",
    "下面我们将演示如何在非流式和流式响应中实现联网搜索。"
   ]
  },
  {
   "cell_type": "markdown",
   "metadata": {},
   "source": [
    "### 2.1 非流式响应\n",
    "\n",
    "在非流式模式下，API 会一次性返回所有结果，包括模型最终的回答和搜索过程的详细信息。"
   ]
  },
  {
   "cell_type": "code",
   "execution_count": 16,
   "metadata": {},
   "outputs": [
    {
     "name": "stdout",
     "output_type": "stream",
     "text": [
      "------ 模型最终回答 ------\n",
      "世界上最大的湖泊是里海，它位于欧洲和亚洲的交界处，被五个国家所环绕，分别是俄罗斯、阿塞拜疆、伊朗、土库曼斯坦和哈萨克斯坦。里海是一个内陆咸水湖，面积达到37.1万平方公里，是世界上最大的内陆水体。它的形状略似“S”型，南北长约1200公里，东西平均宽度320公里。里海的深度和水量也非常可观，平均深度为184米，湖水蓄积量达7.6万立方公里。尽管被称为“海”，但里海实际上是地球上最大的内陆水域。\n",
      "\n",
      "------ 搜索工具调用详情 ------\n",
      "[ChatCompletionMessageFunctionToolCall(id='call_j225G1LUQ4mWNaBKCIKOOg', function=Function(arguments='{\"keyword\": \"the largest lake in the world\"}', name='step_websearch', results=[{'index': 0, 'url': 'https://m.maigoo.com/citiao/181199.html', 'title': '世界上面积最大的湖泊', 'summary': '世界上面积最大的湖泊是里海，里海是世界上最大的湖泊且为咸水湖，位于欧洲和亚洲的交界处，面积最大的淡水湖则是苏必利尔湖。里海一共与5个国家接壤，也是世界上接壤最多国家的湖。里海是个内陆湖，位于中亚西部，里海南北狭长，形状略似“S”型，南北长约1200公里，是世界最长及唯一长度在千公里以上的湖泊。东西平均宽约320公里，湖岸线长约7000公里，面积37.1万平方公里，大小几乎与波罗的海相当，规模为亚速海的10倍，相当全世界湖泊总面积（270万平方公里）的14%。\\n世界十大湖泊之最排行榜  NO.4\\n详细介绍 PROFILE +\\n里海，湖泊名，是世界上最大的咸水湖，位于欧洲和亚洲的交界处，面积最大的淡水湖则是苏必利尔湖。里海也是世界上接壤最多国家的湖，一共与5个国家接壤。里海拥有与海洋相似的生态系统，海运业发达。里海在地理学上属性为‘海迹湖’，它与黑海最后分离成为一个内陆湖泊，距今不过1.1万多年。\\n里海（Caspian Sea）是个内陆湖，位于中亚西部，里海南北狭长，形状略似“S”型，南北长约1200公里，是世界最长及唯一长度在千公里以上的湖泊。'}, {'index': 1, 'url': 'http://www.szpxe.com/zxwd/202504/99391.html', 'title': '世界上最大的湖泊是什么（世界上最大的湖泊是哪个）', 'summary': '问题描述：\\n世界上最大的湖泊是什么（世界上最大的湖泊是哪个），在线等，求大佬翻牌！\\n提到世界上的湖泊，很多人可能会想到一些知名的淡水湖，比如苏必利尔湖或贝加尔湖。但如果我们讨论的是面积最大的湖泊，答案则完全不同。\\n世界上最大的湖泊并不是一个淡水湖，而是一个咸水湖——里海。里海位于亚洲和欧洲的交界处，介于俄罗斯、哈萨克斯坦、阿塞拜疆、伊朗和土库曼斯坦之间。它不仅在面积上独占鳌头，而且在深度、水量等方面也占据着重要的地位。\\n里海的总面积约为37万平方公里，比著名的五大湖（包括苏必利尔湖）的总和还要大。它的长度大约为1200公里，宽度从90公里到320公里不等。由于其巨大的体积，里海能够容纳全球约44%的湖泊淡水资源。尽管被称为“海”，但它实际上是地球上最大的内陆水域。\\n里海的形成可以追溯到地质历史时期的冰河时代。随着时间推移，这片区域逐渐演化成今天我们所见的样子。由于周围国家众多，里海不仅是自然地理的重要组成部分，也是政治经济交流的重要纽带。\\n此外，里海还是许多珍稀动植物的栖息地，其中包括里海虎（现已灭绝）以及各种鱼类和其他生物。这些物种适应了这里的独特环境，并成为生态系统中不可或缺的一部分。'}, {'index': 2, 'url': 'https://wenwen.sogou.com/z/q250561775.htm', 'title': '世界上最大的湖？', 'summary': '世界上最大的内陆湖是里海  里海是世界最大的内陆湖，位于辽阔平坦的中亚西部和欧洲东南端，西面为高加索山脉。 整个海域狭长，南北长约 1200 公里，东西平均宽度 320 公里。 面积约 386400 平方公里，比北美五大淡水湖加在一起还要大出一倍多。 里海湖岸线长 7000 公里。 有 130 多条河注入里海，其中伏尔加河、乌拉尔河和捷列克河从北面注入， 3 条河的水量占全部注入水量的 88% 。 里海中的岛屿多达 50 个，但大部分都很小。 海盆大体上为北、中、南三个部分。 最浅的为北部平坦的沉积平原，平均深度 4 至 6 米。 中部是不规则的海盆，西坡陡峻，东坡平缓，水深约 170 至 788 米。 南部凹陷，最深处达 1024 米，整个里海平均水深 184 米，湖水蓄积量达 7. 6 万立方公里。 海面年蒸发量达 1000 毫米。 数百年间，里海的面积和深度曾多次发生变化。 里海为沿岸各国提供了优越的水运条件，沿岸有许多港口，有些港口与铁路相连系，火车可以直接开到船上轮渡到对岸。 太湖地处长江三角洲，位于富饶的沪、宁、杭三角地中心，介于北纬30°55’42\"-31°33’50\"、东经119°53’45\"-120°36’15\"之间，横跨江、浙两省，北临无锡，南濒湖州，西依宜兴，东近苏州。 太湖南缘位于江、浙两省的分界线上，整个湖面归江苏省所辖。'}, {'index': 3, 'url': 'https://wap.zol.com.cn/ask/x_22501307.html', 'title': '世上最大的湖是哪个？？？', 'summary': '世界上最大的湖泊——里海，位于欧亚大陆之间，它的西南面和南面为高加索山脉和厄尔布尔士山脉的连绵雪峰环绕，其它三面只是坦荡辽阔的平原。里还是我国的称呼，它的译名应为卡斯皮海，得名于古代居住在高加索东部的一个部落——卡斯皮人。人们称里海为“海”，不仅是由于它具有一些海的特征，如面积大、水深、常有狂风巨浪、动植物与海洋相近等，而且也由于它过去确实是海的一部分。大约在几百万年以前，里海是与黑海和地中海相同的，以后由于地壳运动，这里的海陆范围曾多次变化，里海与黑海最后分离成为一个内陆湖泊，距今不过1万1千多年。在地理学上，这一类湖泊被称为“海迹湖”。里海简介 里海是世界上最大的内陆水体。它的面积为37.18万平方千米，比德国大，接近日本的面积，北美洲五大湖总面积的1.5倍.里海总面积的五分之二左右在伊朗境内。其余部分在俄国境内。这个巨大的湖泊（实际上不是海）全长1225千米。名叫卡拉博加兹戈尔的大海湾在里海主体之外，低长的沙嘴几乎上把海湾与里海隔离。冲入海湾的水迅速蒸发。海湾水深均不足10米，含盐度为35％，相比之下里海主体的含盐度是11.3％，世界大洋为3.5％。'}, {'index': 4, 'url': 'http://hanyu.zaixian-fanyi.com/fan_yi_4681734', 'title': '庆香，我爱你。我们就这样手牵着手，不分开了，好吗？！', 'summary': \"aThe world's largest lake is the salty Caspian Sea at 143,200 square miles (370,886 km2). The Caspian Sea is surrounded by Russia, Azerbaijan, Iran, Turkmenistan, and Kazakhstan. The world's second largest lake, and the world's largest freshwater lake is North America's Lake Superior at 31,700 mi2 (82,103 km2).  [translate]\"}]), type='web_search', index=0)]\n"
     ]
    }
   ],
   "source": [
    "import os\n",
    "from openai import OpenAI\n",
    "\n",
    "# 建议从环境变量或安全存储中读取 API Key\n",
    "STEPFUN_API_KEY = os.getenv(\"STEPFUN_API_KEY\")\n",
    "\n",
    "client = OpenAI(\n",
    "    base_url=\"https://api.stepfun.com/v1\",\n",
    "    api_key=STEPFUN_API_KEY\n",
    ")\n",
    "\n",
    "# 1. 定义 System Prompt 和 User Prompt\n",
    "sys_prompt = \"请先使用 web_search 工具搜索互联网，然后根据搜索结果来回答用户的问题。\"\n",
    "user_prompt = \"世界上最大的湖泊在哪里\"\n",
    "\n",
    "# 2. 构建消息体\n",
    "messages = [\n",
    "    {\"role\": \"system\", \"content\": sys_prompt},\n",
    "    {\"role\": \"user\", \"content\": user_prompt}\n",
    "]\n",
    "\n",
    "# 3. 构建 web_search 工具\n",
    "tools = [\n",
    "    {\n",
    "        \"type\": \"web_search\",\n",
    "        \"function\": {\n",
    "            \"description\": \"用于搜索互联网以获取最新信息。\"\n",
    "        }\n",
    "    }\n",
    "]\n",
    "\n",
    "# 4. 调用 API\n",
    "try:\n",
    "    completion = client.chat.completions.create(\n",
    "        model=\"step-2-mini\",\n",
    "        messages=messages,\n",
    "        tools=tools,\n",
    "        # tool_choice=\"auto\",  # 让模型自动决定是否使用工具\n",
    "        stream=False\n",
    "    )\n",
    "    \n",
    "    # 5. 打印完整返回结果\n",
    "    print(\"------ 模型最终回答 ------\")\n",
    "    print(completion.choices[0].message.content)\n",
    "    print(\"\\n------ 搜索工具调用详情 ------\")\n",
    "    print(completion.choices[0].message.tool_calls)\n",
    "\n",
    "except Exception as e:\n",
    "    print(f\"API 调用失败: {e}\")"
   ]
  },
  {
   "cell_type": "markdown",
   "metadata": {},
   "source": [
    "### 2.2 流式响应\n",
    "\n",
    "在流式模式下，结果会以数据块（chunk）的形式逐步返回。对于搜索功能，第一个 chunk 中会包含完整的搜索结果 `tool_calls`，后续的 chunk 则会逐步返回模型的生成内容。\n",
    "\n",
    "这种方式可以让你更快地向用户展示搜索到的信息（例如渲染引用的链接），同时等待模型生成最终答案。"
   ]
  },
  {
   "cell_type": "code",
   "execution_count": 6,
   "metadata": {},
   "outputs": [
    {
     "name": "stdout",
     "output_type": "stream",
     "text": [
      "------ 流式响应开始 ------\n",
      "\n",
      "对不起，我无法获取实时日期信息。但你可以查看你的设备或访问互联网来获取当前日期。如果你需要帮助，请告诉我。\n",
      "\n",
      "------ 流式响应结束 ------\n"
     ]
    }
   ],
   "source": [
    "import os\n",
    "from openai import OpenAI\n",
    "\n",
    "# 建议从环境变量或安全存储中读取 API Key\n",
    "STEPFUN_API_KEY = os.getenv(\"STEPFUN_API_KEY\") \n",
    "\n",
    "client = OpenAI(\n",
    "    base_url=\"https://api.stepfun.com/v1\",\n",
    "    api_key=STEPFUN_API_KEY\n",
    ")\n",
    "\n",
    "messages = [\n",
    "    {\"role\": \"system\", \"content\": \"请先搜索，然后根据搜索结果回答。\"},\n",
    "    {\"role\": \"user\", \"content\": \"今天日期\"}#2025年巴黎奥运会有哪些新增项目？\n",
    "]\n",
    "\n",
    "tools = [\n",
    "    {\n",
    "        \"type\": \"web_search\",\n",
    "        \"function\": {\n",
    "            \"description\": \"用于搜索互联网以获取体育赛事等最新信息。\"\n",
    "        }\n",
    "    }\n",
    "]\n",
    "\n",
    "try:\n",
    "    stream = client.chat.completions.create(\n",
    "        model=\"step-1-8k\",\n",
    "        messages=messages,\n",
    "        tools=tools,\n",
    "        tool_choice=\"auto\",\n",
    "        stream=True\n",
    "    )\n",
    "\n",
    "    print(\"------ 流式响应开始 ------\\n\")\n",
    "    full_content = \"\"\n",
    "    # 首次迭代标记\n",
    "    is_first_chunk = True\n",
    "    \n",
    "    for chunk in stream:\n",
    "        # 搜索引擎的结果会在第一个 chunk 中返回\n",
    "        if is_first_chunk and chunk.choices[0].delta.tool_calls:\n",
    "            print(\"--- 搜索结果（在第一个 chunk 中返回） ---\")\n",
    "            tool_calls = chunk.choices[0].delta.tool_calls\n",
    "            for tool_call in tool_calls:\n",
    "                if tool_call.function.results:\n",
    "                    # 将字符串结果解析为 Python 对象\n",
    "                    import json\n",
    "                    search_results = json.loads(tool_call.function.results)\n",
    "                    print(f\"搜索关键词: {tool_call.function.arguments}\")\n",
    "                    print(\"搜索到的链接：\")\n",
    "                    for result in search_results:\n",
    "                        print(f\"  - [{result['title']}]({result['url']})\")\n",
    "            print(\"-------------------------------------\\n\")\n",
    "            is_first_chunk = False\n",
    "\n",
    "        # 打印模型生成的文本内容\n",
    "        content = chunk.choices[0].delta.content\n",
    "        if content:\n",
    "            print(content, end='', flush=True)\n",
    "            full_content += content\n",
    "\n",
    "    print(\"\\n\\n------ 流式响应结束 ------\")\n",
    "\n",
    "except Exception as e:\n",
    "    print(f\"API 调用失败: {e}\")"
   ]
  },
  {
   "cell_type": "markdown",
   "metadata": {},
   "source": [
    "## 3. 返回结果解析\n",
    "\n",
    "调用 API 后，返回结果中的 `message.tool_calls` 字段包含了搜索的详细信息。其中 `results` 字段是搜索引擎返回的原始信息，你可以基于此来渲染 UI，例如显示引用的来源链接。\n",
    "\n",
    "下面是一个非流式响应的返回结果示例："
   ]
  },
  {
   "cell_type": "code",
   "execution_count": null,
   "metadata": {},
   "outputs": [],
   "source": [
    "response_example = {\n",
    "  \"id\": \"354dff9f4e8b0d273cf9d4639ba5f183.2618f2a05bbfdd02896c32051994da8c\",\n",
    "  \"object\": \"chat.completion\",\n",
    "  \"created\": 1722413870,\n",
    "  \"model\": \"step-1-8k\",\n",
    "  \"choices\": [\n",
    "    {\n",
    "      \"index\": 0,\n",
    "      \"message\": {\n",
    "        \"role\": \"assistant\",\n",
    "        \"content\": \"上海中心大厦\",\n",
    "        \"tool_calls\": [\n",
    "          {\n",
    "            \"id\": \"call__Tg9p9DHRK2JamqimG-IVA\",\n",
    "            \"type\": \"web_search\",\n",
    "            \"function\": {\n",
    "              \"name\": \"step_websearch\",\n",
    "              \"arguments\": \"{\\\"keyword\\\": \\\"上海最高的楼\\\"}\",\n",
    "              \"results\": \"[...]\"  // 这里是包含多个搜索结果（url, title, summary）的JSON字符串\n",
    "            }\n",
    "          }\n",
    "        ]\n",
    "      },\n",
    "      \"finish_reason\": \"stop\"\n",
    "    }\n",
    "  ],\n",
    "  \"usage\": {\n",
    "    \"prompt_tokens\": 1516,\n",
    "    \"completion_tokens\": 4,\n",
    "    \"total_tokens\": 1520\n",
    "  }\n",
    "}\n",
    "\n",
    "import json\n",
    "print(json.dumps(response_example, indent=2, ensure_ascii=False))"
   ]
  },
  {
   "cell_type": "markdown",
   "metadata": {},
   "source": [
    "## 4. 常见用法和注意事项\n",
    "\n",
    "1.  **清晰的指令**: 为了让模型准确判断何时调用搜索，你需要提供清晰的 `System Prompt` 和 `tool.function.description`。\n",
    "\n",
    "2.  **输出引用链接**: 你可以明确要求模型在回答时附上参考链接。通过解析返回结果中的 `tool_calls` -> `function` -> `results` 字段，可以获取到搜索到的 URL、标题和摘要，并将其展示给用户。\n",
    "\n",
    "3.  **流式输出的特点**: 在使用流式输出时，所有 `tool_calls` 的信息（包括搜索结果）会**在第一个返回的 chunk 中一次性提供**。你可以利用这一点来优先渲染 UI 元素（如“正在搜索”、“参考链接”等）。\n",
    "\n",
    "4.  **意图判断**: 模型会先进行意图判断，评估用户的提问是否真的需要联网搜索。并非每次调用都会触发搜索，这有助于节省成本和提高效率。\n",
    "\n",
    "5.  **计费**: 互联网搜索工具按**实际调用次数**计费，具体请参考官方的定价说明。"
   ]
  }
 ],
 "metadata": {
  "kernelspec": {
   "display_name": "py311",
   "language": "python",
   "name": "python3"
  },
  "language_info": {
   "codemirror_mode": {
    "name": "ipython",
    "version": 3
   },
   "file_extension": ".py",
   "mimetype": "text/x-python",
   "name": "python",
   "nbconvert_exporter": "python",
   "pygments_lexer": "ipython3",
   "version": "3.11.13"
  }
 },
 "nbformat": 4,
 "nbformat_minor": 4
}
