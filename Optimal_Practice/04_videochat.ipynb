{
 "cells": [
  {
   "cell_type": "markdown",
   "metadata": {},
   "source": [
    "# 阶跃星辰(StepFun)视频理解最佳实践\n",
    "## 概述\n",
    "本 notebook 基于 [阶跃星辰视频理解开发指南](https://platform.stepfun.com/docs/guide/video_chat) 编写，涵盖 **基础视频理解调用、Files API 加速、ffmpeg 处理大文件/格式转换** 等核心最佳实践，帮助开发者高效实现视频内容分析与生成任务。\n",
    "\n",
    "### 核心目标\n",
    "- 掌握 step-1o-turbo-vision 模型的视频理解调用流程\n",
    "- 利用 Files API 优化视频加载速度，降低重复流量消耗\n",
    "- 通过 ffmpeg 处理超大/非 MP4 格式视频，适配模型要求\n",
    "- 理解价格影响因素与性能优化技巧"
   ]
  },
  {
   "cell_type": "markdown",
   "metadata": {},
   "source": [
    "## 1. 环境准备\n",
    "### 1.1 安装依赖库\n",
    "需安装 `requests` 用于 API 调用，`python-dotenv` 管理环境变量。"
   ]
  },
  {
   "cell_type": "code",
   "execution_count": null,
   "metadata": {},
   "outputs": [],
   "source": [
    "\n",
    "# 导入必要库\n",
    "import requests\n",
    "import os\n",
    "import subprocess"
   ]
  },
  {
   "cell_type": "markdown",
   "metadata": {},
   "source": [
    "### 1.2 配置环境变量\n",
    "将阶跃星辰 API Key 存储在 `.env` 文件中（格式：`STEP_API_KEY=你的密钥`），避免硬编码密钥。\n",
    "> 提示：API Key 需从阶跃星辰开发者平台获取。"
   ]
  },
  {
   "cell_type": "code",
   "execution_count": null,
   "metadata": {},
   "outputs": [],
   "source": [
    "\n",
    "# 获取 API Key\n",
    "API_KEY = os.getenv(\"STEPFUN_API_KEY\")\n",
    "if not API_KEY:\n",
    "    raise ValueError(\"请在环境变量中设置 STEPFUN_API_KEY\")\n",
    "\n",
    "# 基础配置\n",
    "BASE_URL = \"https://api.stepfun.com/v1\"\n",
    "RECOMMENDED_MODEL = \"step-1o-turbo-vision\"  # 推荐模型"
   ]
  },
  {
   "cell_type": "markdown",
   "metadata": {},
   "source": [
    "### 1.3 安装 ffmpeg（可选，处理视频时需）\n",
    "- Windows：从 [FFmpeg 官网](https://ffmpeg.org/download.html) 下载，添加至系统环境变量\n",
    "- macOS：`brew install ffmpeg`\n",
    "- Linux：`sudo apt update && sudo apt install ffmpeg`\n",
    "\n",
    "验证安装是否成功："
   ]
  },
  {
   "cell_type": "code",
   "execution_count": 5,
   "metadata": {},
   "outputs": [
    {
     "name": "stdout",
     "output_type": "stream",
     "text": [
      "✅ ffmpeg 安装成功\n"
     ]
    }
   ],
   "source": [
    "# 验证 ffmpeg 安装\n",
    "try:\n",
    "    subprocess.run([\"ffmpeg\", \"-version\"], capture_output=True, check=True)\n",
    "    print(\"✅ ffmpeg 安装成功\")\n",
    "except (subprocess.CalledProcessError, FileNotFoundError):\n",
    "    print(\"❌ ffmpeg 未安装，请参考上文安装步骤\")"
   ]
  },
  {
   "cell_type": "markdown",
   "metadata": {},
   "source": [
    "## 2. 基础视频理解调用（入门实践）\n",
    "### 核心要求\n",
    "- 视频格式：仅支持 **MP4**\n",
    "- 视频来源：可直接访问的网络 URL（暂不支持本地文件上传）\n",
    "- 模型选择：优先使用 `step-1o-turbo-vision`（更强性能、更低费用）"
   ]
  },
  {
   "cell_type": "code",
   "execution_count": 7,
   "metadata": {},
   "outputs": [
    {
     "name": "stdout",
     "output_type": "stream",
     "text": [
      "🔄 正在调用 step-1o-turbo-vision 模型处理视频...\n",
      "\n",
      "🎯 模型生成结果：\n",
      "在落日余晖中，  \n",
      "她将头轻轻靠在他的肩，  \n",
      "两杯酒，映着天边的云。  \n",
      "风起，心静。\n"
     ]
    }
   ],
   "source": [
    "def basic_video_understanding(video_url: str, prompt: str) -> str:\n",
    "    \"\"\"\n",
    "    基础视频理解调用\n",
    "    :param video_url: 可直接访问的 MP4 视频 URL\n",
    "    :param prompt: 给模型的指令（需明确任务目标）\n",
    "    :return: 模型生成的结果\n",
    "    \"\"\"\n",
    "    # 构造请求体\n",
    "    payload = {\n",
    "        \"model\": RECOMMENDED_MODEL,\n",
    "        \"messages\": [\n",
    "            {\n",
    "                \"role\": \"user\",\n",
    "                \"content\": [\n",
    "                    # 最佳实践：视频信息放在指令前，提升模型效果\n",
    "                    {\n",
    "                        \"type\": \"video_url\",\n",
    "                        \"video_url\": {\"url\": video_url}\n",
    "                    },\n",
    "                    {\n",
    "                        \"type\": \"text\",\n",
    "                        \"text\": prompt\n",
    "                    }\n",
    "                ]\n",
    "            }\n",
    "        ],\n",
    "        \"max_tokens\": 1024  # 控制生成文本长度\n",
    "    }\n",
    "\n",
    "    # 发送请求\n",
    "    headers = {\n",
    "        \"Content-Type\": \"application/json\",\n",
    "        \"Authorization\": f\"Bearer {API_KEY}\"\n",
    "    }\n",
    "\n",
    "    try:\n",
    "        print(f\"🔄 正在调用 {RECOMMENDED_MODEL} 模型处理视频...\")\n",
    "        response = requests.post(\n",
    "            f\"{BASE_URL}/chat/completions\",\n",
    "            json=payload,\n",
    "            headers=headers,\n",
    "            timeout=60  # 视频处理耗时较长，设置合理超时\n",
    "        )\n",
    "        response.raise_for_status()  # 抛出 HTTP 错误\n",
    "        result = response.json()\n",
    "        return result[\"choices\"][0][\"message\"][\"content\"]\n",
    "    except requests.exceptions.RequestException as e:\n",
    "        return f\"❌ 调用失败：{str(e)}\"\n",
    "\n",
    "\n",
    "# 示例：基于视频生成诗意文案（使用官方示例视频）\n",
    "SAMPLE_VIDEO_URL = \"https://static.stepfun.com/static/platform-web/vipcase/case1.mp4\"\n",
    "PROMPT = (\n",
    "    \"你是文案专家，通过分析视频中的风景和拍摄风格，创作极简且充满诗意的文案。\"\n",
    ")\n",
    "\n",
    "# 执行调用\n",
    "output = basic_video_understanding(SAMPLE_VIDEO_URL, PROMPT)\n",
    "print(\"\\n🎯 模型生成结果：\")\n",
    "print(output)"
   ]
  },
  {
   "cell_type": "markdown",
   "metadata": {},
   "source": [
    "## 3. 最佳实践一：使用 Files API 加速视频理解\n",
    "### 适用场景\n",
    "当视频需要 **重复使用**（如 Few-shot 示例）时，将视频上传至阶跃星辰文件存储，避免重复下载，提升速度并减少流量消耗。\n",
    "\n",
    "### 实现步骤\n",
    "1. 调用 Files API 上传视频（purpose=storage）\n",
    "2. 获取 File ID，拼接为 `stepfile://{file_id}` 格式\n",
    "3. 使用拼接后的地址进行视频理解调用"
   ]
  },
  {
   "cell_type": "code",
   "execution_count": 8,
   "metadata": {},
   "outputs": [
    {
     "name": "stdout",
     "output_type": "stream",
     "text": [
      "📤 正在上传视频：01_video.mp4\n",
      "✅ 上传成功，stepfile 地址：stepfile://file-KfpcDKp7iq\n",
      "🔄 正在调用 step-1o-turbo-vision 模型处理视频...\n",
      "\n",
      "🎯 基于 stepfile 的生成结果：\n",
      "在公园的晨光里，  \n",
      "健身的身影倒映着坚韧。  \n",
      "AI的虚假，  \n",
      "掩不住真实的笑容。  \n",
      "大爷的回应，  \n",
      "如风中树叶，轻声诉说真相。\n"
     ]
    }
   ],
   "source": [
    "def upload_video_to_stepfun(file_path: str) -> str:\n",
    "    \"\"\"\n",
    "    上传视频至阶跃星辰文件存储\n",
    "    :param file_path: 本地视频文件路径（需为 MP4 格式）\n",
    "    :return: 拼接后的 stepfile 地址（stepfile://{file_id}）\n",
    "    \"\"\"\n",
    "    # 验证文件格式\n",
    "    if not file_path.endswith(\".mp4\"):\n",
    "        return \"❌ 仅支持 MP4 格式视频上传\"\n",
    "\n",
    "    # 验证文件存在\n",
    "    if not os.path.exists(file_path):\n",
    "        return f\"❌ 文件不存在：{file_path}\"\n",
    "\n",
    "    # 构造上传请求\n",
    "    headers = {\n",
    "        \"Authorization\": f\"Bearer {API_KEY}\"\n",
    "    }\n",
    "\n",
    "    with open(file_path, \"rb\") as f:\n",
    "        files = {\n",
    "            \"file\": (os.path.basename(file_path), f),\n",
    "            \"purpose\": (None, \"storage\")  # 必须设置为 storage\n",
    "        }\n",
    "\n",
    "        try:\n",
    "            print(f\"📤 正在上传视频：{os.path.basename(file_path)}\")\n",
    "            response = requests.post(\n",
    "                f\"{BASE_URL}/files\",\n",
    "                headers=headers,\n",
    "                files=files,\n",
    "                timeout=120\n",
    "            )\n",
    "            response.raise_for_status()\n",
    "            file_id = response.json()[\"id\"]\n",
    "            stepfile_url = f\"stepfile://{file_id}\"\n",
    "            print(f\"✅ 上传成功，stepfile 地址：{stepfile_url}\")\n",
    "            return stepfile_url\n",
    "        except requests.exceptions.RequestException as e:\n",
    "            return f\"❌ 上传失败：{str(e)}\"\n",
    "\n",
    "\n",
    "# 示例：上传本地视频并使用其进行理解\n",
    "LOCAL_VIDEO_PATH = \"./media/01_video.mp4\"  # 替换为你的本地 MP4 路径\n",
    "\n",
    "# 1. 上传视频获取 stepfile 地址\n",
    "stepfile_url = upload_video_to_stepfun(LOCAL_VIDEO_PATH)\n",
    "\n",
    "# 2. 使用 stepfile 地址进行视频理解（复用基础调用函数）\n",
    "if stepfile_url.startswith(\"stepfile://\"):\n",
    "    output = basic_video_understanding(stepfile_url, PROMPT)\n",
    "    print(\"\\n🎯 基于 stepfile 的生成结果：\")\n",
    "    print(output)"
   ]
  },
  {
   "cell_type": "markdown",
   "metadata": {},
   "source": [
    "## 4. 最佳实践二：用 ffmpeg 处理超大/非 MP4 视频\n",
    "### 适用场景\n",
    "- 视频超过 128MB（step-1.5v-mini 限制，step-1o-turbo-vision 建议拆分提升效率）\n",
    "- 视频格式非 MP4（如 MKV、AVI 等）"
   ]
  },
  {
   "cell_type": "code",
   "execution_count": 9,
   "metadata": {},
   "outputs": [
    {
     "name": "stdout",
     "output_type": "stream",
     "text": [
      "🔄 正在切割视频，每段 120 秒...\n",
      "✅ 切割成功，输出文件：output_time_%d.mp4\n"
     ]
    }
   ],
   "source": [
    "def convert_video_to_mp4(input_path: str, output_path: str = None) -> str:\n",
    "    \"\"\"\n",
    "    将非 MP4 视频转换为 MP4 格式（无损拷贝编码）\n",
    "    :param input_path: 输入视频路径（如 .mkv、.avi）\n",
    "    :param output_path: 输出 MP4 路径，默认与输入同目录\n",
    "    :return: 转换结果信息\n",
    "    \"\"\"\n",
    "    if not output_path:\n",
    "        output_path = os.path.splitext(input_path)[0] + \".mp4\"\n",
    "\n",
    "    cmd = [\n",
    "        \"ffmpeg\",\n",
    "        \"-i\", input_path,\n",
    "        \"-codec\", \"copy\",  # 无损拷贝，速度快\n",
    "        output_path\n",
    "    ]\n",
    "\n",
    "    try:\n",
    "        print(f\"🔄 正在转换 {input_path} 为 MP4...\")\n",
    "        subprocess.run(cmd, capture_output=True, check=True, text=True)\n",
    "        return f\"✅ 转换成功：{output_path}\"\n",
    "    except subprocess.CalledProcessError as e:\n",
    "        return f\"❌ 转换失败：{e.stderr}\"\n",
    "\n",
    "\n",
    "def split_large_video(input_path: str, segment_seconds: int = 120) -> str:\n",
    "    \"\"\"\n",
    "    将大视频切割为多个指定时长的小视频（无损切割）\n",
    "    :param input_path: 输入 MP4 路径\n",
    "    :param segment_seconds: 每个片段的时长（秒），默认 120 秒\n",
    "    :return: 切割结果信息\n",
    "    \"\"\"\n",
    "    if not input_path.endswith(\".mp4\"):\n",
    "        return \"❌ 仅支持 MP4 格式视频切割，请先转换\"\n",
    "\n",
    "    # 输出文件名格式：output_time_0.mp4, output_time_1.mp4...\n",
    "    output_pattern = \"output_time_%d.mp4\"\n",
    "\n",
    "    cmd = [\n",
    "        \"ffmpeg\",\n",
    "        \"-i\", input_path,\n",
    "        \"-acodec\", \"copy\",  # 音频流无损拷贝\n",
    "        \"-f\", \"segment\",\n",
    "        \"-segment_time\", str(segment_seconds),  # 片段时长\n",
    "        \"-vcodec\", \"copy\",  # 视频流无损拷贝\n",
    "        \"-reset_timestamps\", \"1\",  # 重置每个片段的时间戳\n",
    "        \"-map\", \"0\",  # 映射所有流\n",
    "        output_pattern\n",
    "    ]\n",
    "\n",
    "    try:\n",
    "        print(f\"🔄 正在切割视频，每段 {segment_seconds} 秒...\")\n",
    "        subprocess.run(cmd, capture_output=True, check=True, text=True)\n",
    "        return f\"✅ 切割成功，输出文件：{output_pattern}\"\n",
    "    except subprocess.CalledProcessError as e:\n",
    "        return f\"❌ 切割失败：{e.stderr}\"\n",
    "\n",
    "\n",
    "# 示例 1：转换 MKV 视频为 MP4\n",
    "mkv_video_path = \"./media/sample.mkv\"  # 替换为你的 MKV 路径\n",
    "if os.path.exists(mkv_video_path):\n",
    "    print(convert_video_to_mp4(mkv_video_path))\n",
    "\n",
    "# 示例 2：切割 300 秒（5分钟）的大视频为 120 秒片段\n",
    "large_video_path = \"./media/04_large_sample.mp4\"  # 替换为你的大 MP4 路径\n",
    "if os.path.exists(large_video_path):\n",
    "    print(split_large_video(large_video_path, segment_seconds=120))"
   ]
  },
  {
   "cell_type": "markdown",
   "metadata": {},
   "source": [
    "## 5. 切割后视频的整合处理\n",
    "对于切割后的多个视频片段，可逐段调用 API 生成结果，再通过模型整合为完整结论。"
   ]
  },
  {
   "cell_type": "code",
   "execution_count": 10,
   "metadata": {},
   "outputs": [
    {
     "name": "stdout",
     "output_type": "stream",
     "text": [
      "📽️  找到 2 个视频片段，开始逐段处理...\n",
      "\n",
      "--- 处理片段 1/2: output_time_0.mp4 ---\n",
      "📤 正在上传视频：output_time_0.mp4\n",
      "✅ 上传成功，stepfile 地址：stepfile://file-KfswyjMFNI\n",
      "🔄 正在调用 step-1o-turbo-vision 模型处理视频...\n",
      "\n",
      "--- 处理片段 2/2: output_time_1.mp4 ---\n",
      "📤 正在上传视频：output_time_1.mp4\n",
      "✅ 上传成功，stepfile 地址：stepfile://file-Kft0VR0O1I\n",
      "🔄 正在调用 step-1o-turbo-vision 模型处理视频...\n",
      "🔄 正在调用 step-1o-turbo-vision 模型处理视频...\n",
      "✅ 整合后结果：\n",
      "视频开始时，一位女性手持酒瓶和酒杯，背景是户外的草垛和山脉，营造出一种自然的氛围。随后，四位女性背对镜头，望向远方的浓烟，似乎在凝视着某个远方的景象。接着，画面切换到一位女性在木屋中用刨子刨木头，表情专注，展现了手工劳作的场景。紧接着，电视屏幕上出现体育新闻的画面，字幕显示“Catch Up Before the Final Quarter”，暗示着比赛即将进入关键时刻。\n",
      "\n",
      "场景转到木屋内，几位女性围坐在一起，举杯庆祝，氛围轻松愉快。随后，一位女性在昏暗的光线下跳舞，动作优雅，充满魅力。四位女性在户外草地上跳舞，背景是农舍和草垛，她们的舞姿充满活力，与自然环境融为一体。\n",
      "\n",
      "一位女性在使用电锯切割木头，火花四溅，展现了力量与技巧的结合。接着，场景切换到橄榄球场，一位女性手持橄榄球，周围是欢呼的观众，营造出紧张刺激的比赛氛围。另一位女性在户外拿着农具跳舞，背景是树木和草垛，展现了农村生活的乐趣。\n",
      "\n",
      "四位女性坐在木栅栏前，望着远方的浓烟，表情各异，似乎在思考或等待着什么。随后，橄榄球比赛进入“第四节”，比赛进入白热化阶段。几位女性在木屋前的草地上跳舞，背景是夕阳西下，她们的舞姿充满力量与美感。\n",
      "\n",
      "一位女性在车内手舞足蹈，显得非常兴奋。接着，场景回到木屋前的草地，女性们继续跳舞，背景是燃烧的火焰，营造出一种热烈的氛围。随后，四位女性在橄榄球场上跳舞，背景是观众席和灯光，她们的舞姿充满活力与激情。\n",
      "\n",
      "一位女性开车冲入橄榄球场，车上掉下两名女性，她们在车上跳舞。接着，汽车被抛向空中，女性在空中跳舞，展现了惊险与刺激。最后，四位女性穿着黑色服装，背景是飘扬的旗帜，画面定格，视频结束。\n",
      "\n",
      "整个视频通过不同场景的切换，展现了女性在不同环境中的生活状态，包括劳作、庆祝、舞蹈和比赛等，展现了力与美的结合，以及对生活的热情与活力。\n"
     ]
    }
   ],
   "source": [
    "def process_split_videos(segment_pattern: str, prompt: str) -> str:\n",
    "    \"\"\"\n",
    "    处理切割后的视频片段，整合生成结果\n",
    "    :param segment_pattern: 片段文件pattern（如 \"output_time_%d.mp4\"）\n",
    "    :param prompt: 基础指令\n",
    "    :return: 整合后的结果\n",
    "    \"\"\"\n",
    "    # 收集所有片段文件\n",
    "    segments = []\n",
    "    i = 0\n",
    "    while True:\n",
    "        segment_path = segment_pattern % i\n",
    "        if os.path.exists(segment_path):\n",
    "            segments.append(segment_path)\n",
    "            i += 1\n",
    "        else:\n",
    "            break\n",
    "\n",
    "    if not segments:\n",
    "        return \"❌ 未找到视频片段\"\n",
    "    \n",
    "    print(f\"📽️  找到 {len(segments)} 个视频片段，开始逐段处理...\")\n",
    "    segment_results = []\n",
    "\n",
    "    # 逐段上传并处理\n",
    "    for idx, seg_path in enumerate(segments):\n",
    "        print(f\"\\n--- 处理片段 {idx+1}/{len(segments)}: {os.path.basename(seg_path)} ---\")\n",
    "        seg_stepfile = upload_video_to_stepfun(seg_path)\n",
    "        if seg_stepfile.startswith(\"stepfile://\"):\n",
    "            res = basic_video_understanding(seg_stepfile, prompt + f\"（仅分析第 {idx+1} 段视频内容）\")\n",
    "            segment_results.append(f\"片段 {idx+1}：{res}\")\n",
    "\n",
    "    # 整合结果\n",
    "    integrate_prompt = (\n",
    "        f\"以下是视频各片段的分析结果，请将其整合为一段连贯、完整的内容，忽略片段标记：\\n\"\n",
    "        + \"\\n\".join(segment_results)\n",
    "    )\n",
    "\n",
    "    # 调用模型整合\n",
    "    integrate_result = basic_video_understanding(\n",
    "        video_url=seg_stepfile,  # 用任意片段的 stepfile 占位（仅需文本整合）\n",
    "        prompt=integrate_prompt\n",
    "    )\n",
    "\n",
    "    return f\"✅ 整合后结果：\\n{integrate_result}\"\n",
    "\n",
    "\n",
    "# 示例：处理切割后的视频片段\n",
    "SEGMENT_PATTERN = \"output_time_%d.mp4\"  # 与切割时的输出pattern一致\n",
    "if os.path.exists(SEGMENT_PATTERN % 0):\n",
    "    final_result = process_split_videos(SEGMENT_PATTERN, PROMPT)\n",
    "    print(final_result)"
   ]
  },
  {
   "cell_type": "markdown",
   "metadata": {},
   "source": [
    "## 6. 价格预估与性能优化总结\n",
    "### 6.1 价格影响因素\n",
    "视频理解费用由 **Prompt 长度** 和 **视频长度** 决定，视频越长、分辨率越高，输入 Token 越多，费用越高。参考示例：\n",
    "\n",
    "| 视频分辨率 | 视频长度 | 输入 Token | 预估输入价格 |\n",
    "|------------|----------|------------|--------------|\n",
    "| 3840x2160  | 00:14    | 5238       | 0.013095 元  |\n",
    "| 4096x2160  | 01:02    | 24064      | 0.06016 元   |\n",
    "\n",
    "### 6.2 核心优化技巧\n",
    "1. **模型选择**：强制使用 `step-1o-turbo-vision`，避免使用即将停用的 `step-1.5v-mini`\n",
    "2. **视频预处理**：\n",
    "   - 非 MP4 格式用 ffmpeg 转换为 MP4\n",
    "   - 大视频切割为 120 秒内片段，提升处理速度\n",
    "3. **存储优化**：重复使用的视频通过 Files API 上传至阶跃星辰存储，减少下载耗时与流量\n",
    "4. **交互设计**：视频处理耗时较长，需在产品中添加等待提示（如加载动画），降低用户焦虑\n",
    "5. **视频托管**：将视频放在 CDN 或高带宽对象存储，提升下载速度"
   ]
  },
  {
   "cell_type": "markdown",
   "metadata": {},
   "source": [
    "## 7. 关键注意事项\n",
    "- **视频位置**：务必将 `video_url` 放在 `text` 指令前，模型效果更优\n",
    "- **模型限制**：`step-1.5v-mini` 不支持 tool_call，且仅支持 ≤128MB 的 MP4\n",
    "- **超时设置**：视频下载+处理耗时较长，API 调用超时建议设置为 60-120 秒\n",
    "- **错误处理**：需捕获 HTTP 错误（如 401 密钥无效、404 视频无法访问）"
   ]
  },
  {
   "cell_type": "markdown",
   "metadata": {},
   "source": [
    "## 8. 总结\n",
    "本 notebook 覆盖了阶跃星辰视频理解的全流程最佳实践，包括：\n",
    "1. 基础 API 调用入门\n",
    "2. Files API 加速技巧\n",
    "3. ffmpeg 视频预处理方案\n",
    "4. 切割视频的整合处理\n",
    "\n",
    "开发者可根据实际场景（如视频大小、复用频率）选择对应的优化方案，以实现高效、低成本的视频理解任务。"
   ]
  }
 ],
 "metadata": {
  "kernelspec": {
   "display_name": "py311",
   "language": "python",
   "name": "python3"
  },
  "language_info": {
   "codemirror_mode": {
    "name": "ipython",
    "version": 3
   },
   "file_extension": ".py",
   "mimetype": "text/x-python",
   "name": "python",
   "nbconvert_exporter": "python",
   "pygments_lexer": "ipython3",
   "version": "3.11.13"
  }
 },
 "nbformat": 4,
 "nbformat_minor": 4
}
